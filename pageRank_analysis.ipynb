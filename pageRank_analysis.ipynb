{
 "cells": [
  {
   "cell_type": "code",
   "execution_count": 2,
   "id": "08e0a738-87f4-42b5-abcc-34d4ffc9bded",
   "metadata": {},
   "outputs": [],
   "source": [
    "import time\n",
    "import re\n",
    "import matplotlib as mpl\n",
    "import matplotlib.pyplot as plt\n",
    "from pageRank import *\n",
    "from os import listdir\n",
    "from os.path import isfile, join"
   ]
  },
  {
   "cell_type": "code",
   "execution_count": 15,
   "id": "773a4926-5fd1-4302-89a9-9f51d839cabc",
   "metadata": {},
   "outputs": [
    {
     "name": "stdout",
     "output_type": "stream",
     "text": [
      "+----+-------------+------------+\n",
      "|    | actor       |   pagerank |\n",
      "|----+-------------+------------|\n",
      "|  0 | Grin        | 0.0334828  |\n",
      "|  1 | Jet         | 0.0315669  |\n",
      "|  2 | Trigger     | 0.0310706  |\n",
      "|  3 | SN4         | 0.0310249  |\n",
      "|  4 | Topless     | 0.0306923  |\n",
      "|  5 | Web         | 0.0303812  |\n",
      "|  6 | Scabs       | 0.0290552  |\n",
      "|  7 | Patchback   | 0.0267463  |\n",
      "|  8 | Gallatin    | 0.0266752  |\n",
      "|  9 | Kringel     | 0.0254863  |\n",
      "| 10 | Beescratch  | 0.0252033  |\n",
      "| 11 | SN63        | 0.0240755  |\n",
      "| 12 | Feather     | 0.0237625  |\n",
      "| 13 | SN9         | 0.0227249  |\n",
      "| 14 | Upbang      | 0.0222275  |\n",
      "| 15 | Stripes     | 0.0216593  |\n",
      "| 16 | SN100       | 0.0209554  |\n",
      "| 17 | DN21        | 0.020264   |\n",
      "| 18 | Haecksel    | 0.0202603  |\n",
      "| 19 | Jonah       | 0.0199332  |\n",
      "| 20 | TR99        | 0.0198271  |\n",
      "| 21 | SN96        | 0.0178132  |\n",
      "| 22 | TR77        | 0.0176232  |\n",
      "| 23 | Double      | 0.0174096  |\n",
      "| 24 | Beak        | 0.0173211  |\n",
      "| 25 | MN105       | 0.0173091  |\n",
      "| 26 | MN83        | 0.0172718  |\n",
      "| 27 | Hook        | 0.0170819  |\n",
      "| 28 | Number1     | 0.0170243  |\n",
      "| 29 | SN90        | 0.0164044  |\n",
      "| 30 | DN63        | 0.015766   |\n",
      "| 31 | Shmuddel    | 0.0157412  |\n",
      "| 32 | PL          | 0.0153751  |\n",
      "| 33 | Fish        | 0.0151212  |\n",
      "| 34 | Oscar       | 0.0150191  |\n",
      "| 35 | Zap         | 0.0148558  |\n",
      "| 36 | DN16        | 0.0142481  |\n",
      "| 37 | Bumper      | 0.0129847  |\n",
      "| 38 | Knit        | 0.012913   |\n",
      "| 39 | Thumper     | 0.0126238  |\n",
      "| 40 | Ripplefluke | 0.0124997  |\n",
      "| 41 | TSN103      | 0.0120625  |\n",
      "| 42 | Mus         | 0.0110881  |\n",
      "| 43 | Notch       | 0.0108409  |\n",
      "| 44 | Zipfel      | 0.010463   |\n",
      "| 45 | MN60        | 0.00961378 |\n",
      "| 46 | CCL         | 0.00940871 |\n",
      "| 47 | TR88        | 0.00805558 |\n",
      "| 48 | TR120       | 0.00802204 |\n",
      "| 49 | Wave        | 0.00785999 |\n",
      "| 50 | TSN83       | 0.00753592 |\n",
      "| 51 | SN89        | 0.00734602 |\n",
      "| 52 | Vau         | 0.00701333 |\n",
      "| 53 | Zig         | 0.00536357 |\n",
      "| 54 | MN23        | 0.00477031 |\n",
      "| 55 | Quasi       | 0.00477031 |\n",
      "| 56 | TR82        | 0.00465188 |\n",
      "| 57 | Five        | 0.00440882 |\n",
      "| 58 | Cross       | 0.00440882 |\n",
      "| 59 | Whitetip    | 0.00432107 |\n",
      "| 60 | SMN5        | 0.00428716 |\n",
      "+----+-------------+------------+\n"
     ]
    }
   ],
   "source": [
    "sys.argv = str.split(\"pageRank.py ./data/dolphins.csv SMALL 0.9 0.00001\", ' ')\n",
    "if len(sys.argv) == 5:\n",
    "    _, datafile, dataformat, d, epsilon = sys.argv\n",
    "    if dataformat != 'SMALL' and dataformat != 'SNAP':\n",
    "        print(\"Usage1: python3 pageRank.py <datafile.>[csv/txt] <dataformat>[SNAP/SMALL] <d>[0-1] <epsilon>[~0.00001]\")\n",
    "        exit(1)        \n",
    "else:\n",
    "    print(\"Usage2: python3 pageRank.py <datafile.>[csv/txt] <dataformat>[SNAP/SMALL] <d>[0-1] <epsilon>[~0.00001]\")\n",
    "    exit(1)\n",
    "\n",
    "edges, names = readData(datafile, dataformat)\n",
    "adj = createAdjMatrix(edges,names)\n",
    "adj = fixSinkNodes(adj)    \n",
    "adj = scaleAdjMatrix(adj)\n",
    "p, numiters = iteratePageRank(adj)\n",
    "printResults(p, names)"
   ]
  },
  {
   "cell_type": "code",
   "execution_count": 2,
   "id": "ff8aeb7c-5fe8-43cb-a11c-b83359560787",
   "metadata": {},
   "outputs": [
    {
     "data": {
      "text/plain": [
       "array([ True, False,  True, False,  True,  True, False, False, False])"
      ]
     },
     "execution_count": 2,
     "metadata": {},
     "output_type": "execute_result"
    }
   ],
   "source": [
    "files = np.array([f for f in listdir(\"./data/\") if isfile(join(\"./data/\", f))])\n",
    "snapMask = [re.search(\"\\..*\", file).group(0) == '.txt' for file in files] \n",
    "np.logical_not(snapMask)"
   ]
  },
  {
   "cell_type": "code",
   "execution_count": 23,
   "id": "49fd3780-35a3-4d81-b018-94cc9d1ae691",
   "metadata": {},
   "outputs": [],
   "source": [
    "dataSmall = [] # [name, readtime, processing time, numiters, ps]\n",
    "\n",
    "for f in files[np.logical_not(snapMask)]:\n",
    "    newrow = []\n",
    "    newrow.append(f)\n",
    "    \n",
    "    tic = time.process_time()\n",
    "    edges, names = readData(\"./data/\" + f, \"SMALL\")\n",
    "    adj = createAdjMatrix(edges,names)\n",
    "    adj = fixSinkNodes(adj)    \n",
    "    adj = scaleAdjMatrix(adj)\n",
    "    tock = time.process_time()\n",
    "    newrow.append(len(edges))\n",
    "    newrow.append(tock-tic)\n",
    "    \n",
    "    tic = time.process_time()\n",
    "    p, numiters = iteratePageRank(adj)\n",
    "    tock = time.process_time()\n",
    "    newrow.append(tock-tic)\n",
    "    newrow.append(numiters)\n",
    "    newrow.append(p)\n",
    "    dataSmall.append(newrow)"
   ]
  },
  {
   "cell_type": "code",
   "execution_count": 4,
   "id": "691068df-d829-44f7-b27a-c6caef98e55b",
   "metadata": {
    "tags": []
   },
   "outputs": [],
   "source": [
    "dataSnap = [] # [name, readtime, processing time, numiters, ps]\n",
    "\n",
    "for f in files[snapMask]:\n",
    "    newrow = []\n",
    "    newrow.append(f)\n",
    "    \n",
    "    tic = time.process_time()\n",
    "    edges, names = readData(\"./data/\" + f, \"SNAP\")\n",
    "    adj = createAdjMatrix(edges,names)\n",
    "    adj = fixSinkNodes(adj)    \n",
    "    adj = scaleAdjMatrix(adj)\n",
    "    tock = time.process_time()\n",
    "    newrow.append(sys.getsizeof(edges))\n",
    "    newrow.append(tock-tic)\n",
    "    \n",
    "    \n",
    "    tic = time.process_time()\n",
    "    p, numiters = iteratePageRank(adj)\n",
    "    tock = time.process_time()\n",
    "    newrow.append(tock-tic)\n",
    "    newrow.append(numiters)\n",
    "    newrow.append(p)\n",
    "    dataSnap.append(newrow)"
   ]
  },
  {
   "cell_type": "code",
   "execution_count": 49,
   "id": "f4144e42-53c6-486a-adcd-0e3eec7fcd37",
   "metadata": {},
   "outputs": [],
   "source": [
    "i=0\n",
    "for f in files[snapMask]:\n",
    "    edges, names = readData(\"./data/\" + f, \"SNAP\")\n",
    "    dataSnap[i][1] = len(edges)\n",
    "    i+=1"
   ]
  },
  {
   "cell_type": "code",
   "execution_count": 25,
   "id": "4669f1e4-b4cb-4d1b-9857-2b3786d7c0d4",
   "metadata": {
    "tags": []
   },
   "outputs": [],
   "source": [
    "dfSmall = pd.DataFrame(dataSmall, columns = [\"name\", \"size\", \"readtime\", \"processtime\", \"numiters\", \"ps\"])\n",
    "dfSnap = pd.DataFrame(dataSnap, columns = [\"name\", \"size\", \"readtime\", \"processtime\", \"numiters\", \"ps\"])"
   ]
  },
  {
   "cell_type": "code",
   "execution_count": 22,
   "id": "1965d883-f8f3-4931-b55f-c72a533c0007",
   "metadata": {},
   "outputs": [
    {
     "data": {
      "text/html": [
       "<div>\n",
       "<style scoped>\n",
       "    .dataframe tbody tr th:only-of-type {\n",
       "        vertical-align: middle;\n",
       "    }\n",
       "\n",
       "    .dataframe tbody tr th {\n",
       "        vertical-align: top;\n",
       "    }\n",
       "\n",
       "    .dataframe thead th {\n",
       "        text-align: right;\n",
       "    }\n",
       "</style>\n",
       "<table border=\"1\" class=\"dataframe\">\n",
       "  <thead>\n",
       "    <tr style=\"text-align: right;\">\n",
       "      <th></th>\n",
       "      <th>name</th>\n",
       "      <th>size</th>\n",
       "      <th>readtime</th>\n",
       "      <th>processtime</th>\n",
       "      <th>numiters</th>\n",
       "      <th>ps</th>\n",
       "    </tr>\n",
       "  </thead>\n",
       "  <tbody>\n",
       "    <tr>\n",
       "      <th>0</th>\n",
       "      <td>amazon0505.txt</td>\n",
       "      <td>53709304</td>\n",
       "      <td>10.828782</td>\n",
       "      <td>1.826921</td>\n",
       "      <td>36</td>\n",
       "      <td>[3.339207221449677e-07, 3.339207221449677e-07,...</td>\n",
       "    </tr>\n",
       "    <tr>\n",
       "      <th>1</th>\n",
       "      <td>eg.txt</td>\n",
       "      <td>200</td>\n",
       "      <td>0.005116</td>\n",
       "      <td>0.000929</td>\n",
       "      <td>19</td>\n",
       "      <td>[0.050522906063101045, 0.07047432568184558, 0....</td>\n",
       "    </tr>\n",
       "    <tr>\n",
       "      <th>2</th>\n",
       "      <td>wiki-Vote.txt</td>\n",
       "      <td>1659144</td>\n",
       "      <td>0.267319</td>\n",
       "      <td>0.017263</td>\n",
       "      <td>15</td>\n",
       "      <td>[0.00012051096649795132, 0.0001205109664979513...</td>\n",
       "    </tr>\n",
       "    <tr>\n",
       "      <th>3</th>\n",
       "      <td>p2p-Gnutella05.txt</td>\n",
       "      <td>509544</td>\n",
       "      <td>0.095899</td>\n",
       "      <td>0.008578</td>\n",
       "      <td>7</td>\n",
       "      <td>[1.7907996060341957e-05, 2.9134335715469556e-0...</td>\n",
       "    </tr>\n",
       "    <tr>\n",
       "      <th>4</th>\n",
       "      <td>soc-LiveJournal1.txt</td>\n",
       "      <td>1103900488</td>\n",
       "      <td>214.733400</td>\n",
       "      <td>18.762511</td>\n",
       "      <td>22</td>\n",
       "      <td>[1.1790286866375373e-06, 4.286432079428647e-06...</td>\n",
       "    </tr>\n",
       "  </tbody>\n",
       "</table>\n",
       "</div>"
      ],
      "text/plain": [
       "                   name        size    readtime  processtime  numiters  \\\n",
       "0        amazon0505.txt    53709304   10.828782     1.826921        36   \n",
       "1                eg.txt         200    0.005116     0.000929        19   \n",
       "2         wiki-Vote.txt     1659144    0.267319     0.017263        15   \n",
       "3    p2p-Gnutella05.txt      509544    0.095899     0.008578         7   \n",
       "4  soc-LiveJournal1.txt  1103900488  214.733400    18.762511        22   \n",
       "\n",
       "                                                  ps  \n",
       "0  [3.339207221449677e-07, 3.339207221449677e-07,...  \n",
       "1  [0.050522906063101045, 0.07047432568184558, 0....  \n",
       "2  [0.00012051096649795132, 0.0001205109664979513...  \n",
       "3  [1.7907996060341957e-05, 2.9134335715469556e-0...  \n",
       "4  [1.1790286866375373e-06, 4.286432079428647e-06...  "
      ]
     },
     "execution_count": 22,
     "metadata": {},
     "output_type": "execute_result"
    }
   ],
   "source": [
    "dfS"
   ]
  },
  {
   "cell_type": "code",
   "execution_count": 26,
   "id": "08f827af-71ad-4039-99b4-f41d650d3570",
   "metadata": {},
   "outputs": [
    {
     "data": {
      "text/plain": [
       "<matplotlib.collections.PathCollection at 0x7fd6f37e6280>"
      ]
     },
     "execution_count": 26,
     "metadata": {},
     "output_type": "execute_result"
    },
    {
     "data": {
      "image/png": "[encoded data removed]",
      "text/plain": [
       "<Figure size 432x288 with 1 Axes>"
      ]
     },
     "metadata": {
      "needs_background": "light"
     },
     "output_type": "display_data"
    }
   ],
   "source": [
    "fig, ax = plt.subplots(1)\n",
    "ax.set_xlabel(\"Dataset Size\")\n",
    "ax.set_ylabel(\"Read Time\")\n",
    "ax.set_title(\"Read Time of SNAP datasets\")\n",
    "x = dfSmall[\"size\"]\n",
    "y = dfSmall[\"readtime\"]\n",
    "ax.scatter(x,y)"
   ]
  },
  {
   "cell_type": "code",
   "execution_count": 27,
   "id": "f6d93f13-3f23-4bfb-8071-c70c62b793a2",
   "metadata": {},
   "outputs": [
    {
     "data": {
      "text/plain": [
       "<matplotlib.collections.PathCollection at 0x7fd6ffdf4640>"
      ]
     },
     "execution_count": 27,
     "metadata": {},
     "output_type": "execute_result"
    },
    {
     "data": {
      "image/png": "[encoded data removed]",
      "text/plain": [
       "<Figure size 432x288 with 1 Axes>"
      ]
     },
     "metadata": {
      "needs_background": "light"
     },
     "output_type": "display_data"
    }
   ],
   "source": [
    "fig, ax = plt.subplots(1)\n",
    "ax.set_xlabel(\"Dataset Size\")\n",
    "ax.set_ylabel(\"Read Time\")\n",
    "ax.set_title(\"Read Time of SNAP datasets\")\n",
    "x = dfSnap[\"size\"]\n",
    "y = dfSnap[\"readtime\"]\n",
    "ax.scatter(x,y)"
   ]
  },
  {
   "cell_type": "code",
   "execution_count": 28,
   "id": "c6e789a3-6ea6-4483-b365-bb12bf148f58",
   "metadata": {},
   "outputs": [],
   "source": [
    "dfs = pd.concat([dfSmall,dfSnap])"
   ]
  },
  {
   "cell_type": "code",
   "execution_count": 29,
   "id": "26be796b-f2ed-4a99-bef7-ea3413bdc832",
   "metadata": {},
   "outputs": [
    {
     "data": {
      "text/html": [
       "<div>\n",
       "<style scoped>\n",
       "    .dataframe tbody tr th:only-of-type {\n",
       "        vertical-align: middle;\n",
       "    }\n",
       "\n",
       "    .dataframe tbody tr th {\n",
       "        vertical-align: top;\n",
       "    }\n",
       "\n",
       "    .dataframe thead th {\n",
       "        text-align: right;\n",
       "    }\n",
       "</style>\n",
       "<table border=\"1\" class=\"dataframe\">\n",
       "  <thead>\n",
       "    <tr style=\"text-align: right;\">\n",
       "      <th></th>\n",
       "      <th>name</th>\n",
       "      <th>size</th>\n",
       "      <th>readtime</th>\n",
       "      <th>processtime</th>\n",
       "      <th>numiters</th>\n",
       "      <th>ps</th>\n",
       "    </tr>\n",
       "  </thead>\n",
       "  <tbody>\n",
       "    <tr>\n",
       "      <th>0</th>\n",
       "      <td>NCAA_football.csv</td>\n",
       "      <td>1537</td>\n",
       "      <td>0.058279</td>\n",
       "      <td>0.005431</td>\n",
       "      <td>60</td>\n",
       "      <td>[0.0003086419753086419, 0.0019412966647411373,...</td>\n",
       "    </tr>\n",
       "    <tr>\n",
       "      <th>1</th>\n",
       "      <td>karate.csv</td>\n",
       "      <td>156</td>\n",
       "      <td>0.004942</td>\n",
       "      <td>0.002188</td>\n",
       "      <td>22</td>\n",
       "      <td>[0.09923539767696084, 0.054340605992493796, 0....</td>\n",
       "    </tr>\n",
       "    <tr>\n",
       "      <th>2</th>\n",
       "      <td>dolphins.csv</td>\n",
       "      <td>318</td>\n",
       "      <td>0.005120</td>\n",
       "      <td>0.001140</td>\n",
       "      <td>21</td>\n",
       "      <td>[0.017321061444381374, 0.025203285704505026, 0...</td>\n",
       "    </tr>\n",
       "    <tr>\n",
       "      <th>3</th>\n",
       "      <td>lesmis.csv</td>\n",
       "      <td>508</td>\n",
       "      <td>0.003092</td>\n",
       "      <td>0.002090</td>\n",
       "      <td>37</td>\n",
       "      <td>[0.006090850745438373, 0.017463951077734904, 0...</td>\n",
       "    </tr>\n",
       "    <tr>\n",
       "      <th>0</th>\n",
       "      <td>amazon0505.txt</td>\n",
       "      <td>53709304</td>\n",
       "      <td>10.828782</td>\n",
       "      <td>1.826921</td>\n",
       "      <td>36</td>\n",
       "      <td>[3.339207221449677e-07, 3.339207221449677e-07,...</td>\n",
       "    </tr>\n",
       "    <tr>\n",
       "      <th>1</th>\n",
       "      <td>eg.txt</td>\n",
       "      <td>200</td>\n",
       "      <td>0.005116</td>\n",
       "      <td>0.000929</td>\n",
       "      <td>19</td>\n",
       "      <td>[0.050522906063101045, 0.07047432568184558, 0....</td>\n",
       "    </tr>\n",
       "    <tr>\n",
       "      <th>2</th>\n",
       "      <td>wiki-Vote.txt</td>\n",
       "      <td>1659144</td>\n",
       "      <td>0.267319</td>\n",
       "      <td>0.017263</td>\n",
       "      <td>15</td>\n",
       "      <td>[0.00012051096649795132, 0.0001205109664979513...</td>\n",
       "    </tr>\n",
       "    <tr>\n",
       "      <th>3</th>\n",
       "      <td>p2p-Gnutella05.txt</td>\n",
       "      <td>509544</td>\n",
       "      <td>0.095899</td>\n",
       "      <td>0.008578</td>\n",
       "      <td>7</td>\n",
       "      <td>[1.7907996060341957e-05, 2.9134335715469556e-0...</td>\n",
       "    </tr>\n",
       "    <tr>\n",
       "      <th>4</th>\n",
       "      <td>soc-LiveJournal1.txt</td>\n",
       "      <td>1103900488</td>\n",
       "      <td>214.733400</td>\n",
       "      <td>18.762511</td>\n",
       "      <td>22</td>\n",
       "      <td>[1.1790286866375373e-06, 4.286432079428647e-06...</td>\n",
       "    </tr>\n",
       "  </tbody>\n",
       "</table>\n",
       "</div>"
      ],
      "text/plain": [
       "                   name        size    readtime  processtime  numiters  \\\n",
       "0     NCAA_football.csv        1537    0.058279     0.005431        60   \n",
       "1            karate.csv         156    0.004942     0.002188        22   \n",
       "2          dolphins.csv         318    0.005120     0.001140        21   \n",
       "3            lesmis.csv         508    0.003092     0.002090        37   \n",
       "0        amazon0505.txt    53709304   10.828782     1.826921        36   \n",
       "1                eg.txt         200    0.005116     0.000929        19   \n",
       "2         wiki-Vote.txt     1659144    0.267319     0.017263        15   \n",
       "3    p2p-Gnutella05.txt      509544    0.095899     0.008578         7   \n",
       "4  soc-LiveJournal1.txt  1103900488  214.733400    18.762511        22   \n",
       "\n",
       "                                                  ps  \n",
       "0  [0.0003086419753086419, 0.0019412966647411373,...  \n",
       "1  [0.09923539767696084, 0.054340605992493796, 0....  \n",
       "2  [0.017321061444381374, 0.025203285704505026, 0...  \n",
       "3  [0.006090850745438373, 0.017463951077734904, 0...  \n",
       "0  [3.339207221449677e-07, 3.339207221449677e-07,...  \n",
       "1  [0.050522906063101045, 0.07047432568184558, 0....  \n",
       "2  [0.00012051096649795132, 0.0001205109664979513...  \n",
       "3  [1.7907996060341957e-05, 2.9134335715469556e-0...  \n",
       "4  [1.1790286866375373e-06, 4.286432079428647e-06...  "
      ]
     },
     "execution_count": 29,
     "metadata": {},
     "output_type": "execute_result"
    }
   ],
   "source": [
    "dfs"
   ]
  },
  {
   "cell_type": "code",
   "execution_count": 48,
   "id": "e16739a4-128a-4e44-96f8-ed081b2f33ce",
   "metadata": {},
   "outputs": [
    {
     "data": {
      "text/plain": [
       "<matplotlib.legend.Legend at 0x7fd6feb79910>"
      ]
     },
     "execution_count": 48,
     "metadata": {},
     "output_type": "execute_result"
    },
    {
     "data": {
      "image/png": "[encoded data removed]",
      "text/plain": [
       "<Figure size 432x288 with 1 Axes>"
      ]
     },
     "metadata": {
      "needs_background": "light"
     },
     "output_type": "display_data"
    }
   ],
   "source": [
    "fig, ax = plt.subplots(1)\n",
    "ax.set_xlabel(\"Dataset Size (bytes)\")\n",
    "ax.set_ylabel(\"Read/process Time (s)\")\n",
    "ax.set_title(\"Timing of SMALL and SNAP datasets\")\n",
    "ax.set_xscale(\"log\")\n",
    "ax.set_yscale(\"log\")\n",
    "pt = dfs[\"processtime\"]\n",
    "rt = dfs[\"readtime\"]\n",
    "numiters = dfs[\"numiters\"]\n",
    "size = dfs[\"size\"]\n",
    "ax.scatter(size,pt, label=\"process time\")\n",
    "ax.scatter(size,rt, label=\"read time\")\n",
    "ax.legend()"
   ]
  }
 ],
 "metadata": {
  "kernelspec": {
   "display_name": "Python 3",
   "language": "python",
   "name": "python3"
  },
  "language_info": {
   "codemirror_mode": {
    "name": "ipython",
    "version": 3
   },
   "file_extension": ".py",
   "mimetype": "text/x-python",
   "name": "python",
   "nbconvert_exporter": "python",
   "pygments_lexer": "ipython3",
   "version": "3.8.8"
  }
 },
 "nbformat": 4,
 "nbformat_minor": 5
}
