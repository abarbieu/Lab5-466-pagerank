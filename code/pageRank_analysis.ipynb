{
 "cells": [
  {
   "cell_type": "code",
   "execution_count": 1,
   "id": "08e0a738-87f4-42b5-abcc-34d4ffc9bded",
   "metadata": {},
   "outputs": [],
   "source": [
    "import time\n",
    "import re\n",
    "import matplotlib as mpl\n",
    "import matplotlib.pyplot as plt\n",
    "from pageRank import *\n",
    "from os import listdir\n",
    "from os.path import isfile, join"
   ]
  },
  {
   "cell_type": "code",
   "execution_count": 3,
   "id": "67a57137-fddf-430f-99e6-423f94629b69",
   "metadata": {},
   "outputs": [
    {
     "name": "stdout",
     "output_type": "stream",
     "text": [
      "      actor    pagerank\n",
      "--  -------  ----------\n",
      " 0     2625  0.00913368\n",
      " 1     2470  0.00702433\n",
      " 2     7553  0.0060355\n",
      " 3     1186  0.0056651\n",
      " 4     7620  0.00537428\n",
      " 5     5412  0.00533591\n",
      " 6     7632  0.00530533\n",
      " 7     4875  0.0052122\n",
      " 8     6832  0.00491766\n",
      " 9     2066  0.00477141\n",
      "10     8293  0.00474563\n",
      "11      214  0.00459574\n",
      "12     4735  0.00450371\n",
      "13      271  0.00369063\n",
      "14     5210  0.00356158\n",
      "15     8163  0.00350675\n",
      "16     1842  0.00343728\n",
      "17     1026  0.00326302\n",
      "18     3537  0.00318332\n",
      "19     3117  0.00318138\n",
      "20     2643  0.00311999\n",
      "21      299  0.00307235\n",
      "22     7699  0.00296291\n",
      "23     3755  0.00295299\n",
      "24     5459  0.00291944\n",
      "25     1633  0.00282958\n",
      "26     7890  0.00282107\n",
      "27     4256  0.00281394\n",
      "28     1726  0.00277207\n",
      "29     4247  0.00268769\n",
      "30     8294  0.00253837\n",
      "31     4402  0.00252786\n",
      "32     3408  0.00252407\n",
      "33     7809  0.00249076\n",
      "34     5288  0.0024268\n",
      "35     7961  0.00235938\n",
      "36     3650  0.00228157\n",
      "37     1412  0.00226617\n",
      "38     7478  0.00225942\n",
      "39     1956  0.00223469\n",
      "40     5963  0.00222512\n",
      "41     7414  0.00222291\n",
      "42     7214  0.0021639\n",
      "43     1453  0.00214538\n",
      "44     7803  0.00214386\n",
      "45     8295  0.00209878\n",
      "46     4011  0.00203875\n",
      "47     3265  0.00203691\n",
      "48     2877  0.00202496\n",
      "49     7908  0.00201242\n"
     ]
    }
   ],
   "source": [
    "edges, names = readData(\"./data/wiki-Vote.txt\", \"SNAP\")\n",
    "adj = createAdjMatrix(edges,names)\n",
    "adj = fixSinkNodes(adj)    \n",
    "adj = scaleAdjMatrix(adj)\n",
    "p, numiters = iteratePageRank(adj)\n",
    "printResults(p, names, n=50)"
   ]
  },
  {
   "cell_type": "code",
   "execution_count": null,
   "id": "75da6cb8-8235-4d17-ab8e-a05db9b276b0",
   "metadata": {
    "tags": []
   },
   "outputs": [],
   "source": [
    "# for f in files[snapMask]:\n",
    "#     print(f)\n",
    "#     if f == \"soc-LiveJournal1.txt\":\n",
    "#         continue\n",
    "# printResults(dfSnap[dfSnap[\"name\"] == \"wiki-Vote.txt\"][\"ps\"].to_numpy()[0], dfSnap[dfSnap[\"name\"] == \"wiki-Vote.txt\"][\"names\"].to_numpy()[0], n=50)\n",
    "len(dfSnap[dfSnap[\"name\"] == \"wiki-Vote.txt\"][\"names\"].to_numpy()[0])"
   ]
  },
  {
   "cell_type": "code",
   "execution_count": null,
   "id": "08f827af-71ad-4039-99b4-f41d650d3570",
   "metadata": {},
   "outputs": [],
   "source": [
    "fig, ax = plt.subplots(1)\n",
    "ax.set_xlabel(\"Dataset Size\")\n",
    "ax.set_ylabel(\"Read Time\")\n",
    "ax.set_title(\"Read Time of SNAP datasets\")\n",
    "x = dfSmall[\"size\"]\n",
    "y = dfSmall[\"readtime\"]\n",
    "ax.scatter(x,y)"
   ]
  },
  {
   "cell_type": "code",
   "execution_count": null,
   "id": "f6d93f13-3f23-4bfb-8071-c70c62b793a2",
   "metadata": {},
   "outputs": [],
   "source": [
    "fig, ax = plt.subplots(1)\n",
    "ax.set_xlabel(\"Dataset Size\")\n",
    "ax.set_ylabel(\"Read Time\")\n",
    "ax.set_title(\"Read Time of SNAP datasets\")\n",
    "x = dfSnap[\"size\"]\n",
    "y = dfSnap[\"readtime\"]\n",
    "ax.scatter(x,y)"
   ]
  },
  {
   "cell_type": "code",
   "execution_count": null,
   "id": "c6e789a3-6ea6-4483-b365-bb12bf148f58",
   "metadata": {},
   "outputs": [],
   "source": [
    "dfs = pd.concat([dfSmall,dfSnap])"
   ]
  },
  {
   "cell_type": "code",
   "execution_count": null,
   "id": "26be796b-f2ed-4a99-bef7-ea3413bdc832",
   "metadata": {},
   "outputs": [],
   "source": [
    "dfs"
   ]
  },
  {
   "cell_type": "code",
   "execution_count": 6,
   "id": "ff8aeb7c-5fe8-43cb-a11c-b83359560787",
   "metadata": {},
   "outputs": [
    {
     "data": {
      "text/plain": [
       "array([False,  True, False,  True,  True,  True, False, False, False])"
      ]
     },
     "execution_count": 6,
     "metadata": {},
     "output_type": "execute_result"
    }
   ],
   "source": [
    "files = np.array([f for f in listdir(\"./data/\") if isfile(join(\"./data/\", f))])\n",
    "snapMask = [re.search(\"\\..*\", file).group(0) == '.txt' for file in files] \n",
    "np.logical_not(snapMask)"
   ]
  },
  {
   "cell_type": "code",
   "execution_count": 7,
   "id": "49fd3780-35a3-4d81-b018-94cc9d1ae691",
   "metadata": {},
   "outputs": [],
   "source": [
    "dataSmall = [] # [name, readtime, processing time, numiters, ps]\n",
    "\n",
    "for f in files[np.logical_not(snapMask)]:\n",
    "    newrow = []\n",
    "    newrow.append(f)\n",
    "    \n",
    "    tic = time.process_time()\n",
    "    edges, names = readData(\"./data/\" + f, \"SMALL\")\n",
    "    adj = createAdjMatrix(edges,names)\n",
    "    adj = fixSinkNodes(adj)    \n",
    "    adj = scaleAdjMatrix(adj)\n",
    "    tock = time.process_time()\n",
    "    newrow.append(len(edges))\n",
    "    newrow.append(names)\n",
    "    newrow.append(tock-tic)\n",
    "    \n",
    "    tic = time.process_time()\n",
    "    p, numiters = iteratePageRank(adj)\n",
    "    tock = time.process_time()\n",
    "    newrow.append(tock-tic)\n",
    "    newrow.append(numiters)\n",
    "    newrow.append(p)\n",
    "    dataSmall.append(newrow)"
   ]
  },
  {
   "cell_type": "code",
   "execution_count": 25,
   "id": "691068df-d829-44f7-b27a-c6caef98e55b",
   "metadata": {
    "tags": []
   },
   "outputs": [
    {
     "name": "stdout",
     "output_type": "stream",
     "text": [
      "amazon0505.txt\n",
      "eg.txt\n",
      "p2p-Gnutella05.txt\n",
      "soc-LiveJournal1.txt\n",
      "wiki-Vote.txt\n"
     ]
    }
   ],
   "source": [
    "dataSnap = [] # [name, readtime, processing time, numiters, ps]\n",
    "\n",
    "for f in files[snapMask]:\n",
    "    print(f)\n",
    "    if f == \"soc-LiveJournal1.txt\":\n",
    "        continue\n",
    "    newrow = []\n",
    "    newrow.append(f)\n",
    "    \n",
    "    tic = time.process_time()\n",
    "    edges, names = readData(\"./data/\" + f, \"SNAP\")\n",
    "    adj = createAdjMatrix(edges,names)\n",
    "    adj = fixSinkNodes(adj)    \n",
    "    adj = scaleAdjMatrix(adj)\n",
    "    tock = time.process_time()\n",
    "    newrow.append(len(edges))\n",
    "    newrow.append(names)\n",
    "    newrow.append(tock-tic)\n",
    "    \n",
    "    \n",
    "    tic = time.process_time()\n",
    "    p, numiters = iteratePageRank(adj)\n",
    "    tock = time.process_time()\n",
    "    newrow.append(tock-tic)\n",
    "    newrow.append(numiters)\n",
    "    newrow.append(p)\n",
    "    dataSnap.append(newrow)"
   ]
  },
  {
   "cell_type": "code",
   "execution_count": 26,
   "id": "4669f1e4-b4cb-4d1b-9857-2b3786d7c0d4",
   "metadata": {
    "tags": []
   },
   "outputs": [],
   "source": [
    "dfSmall = pd.DataFrame(dataSmall, columns = [\"name\", \"size\", \"names\", \"readtime\", \"processtime\", \"numiters\", \"ps\"])\n",
    "dfSnap = pd.DataFrame(dataSnap, columns = [\"name\", \"size\", \"names\", \"readtime\", \"processtime\", \"numiters\", \"ps\"])"
   ]
  },
  {
   "cell_type": "code",
   "execution_count": null,
   "id": "d587b4d3-7994-41bd-86cb-756a658d07bf",
   "metadata": {},
   "outputs": [],
   "source": [
    "dfSmall[\"ps\"]"
   ]
  },
  {
   "cell_type": "code",
   "execution_count": null,
   "id": "e16739a4-128a-4e44-96f8-ed081b2f33ce",
   "metadata": {},
   "outputs": [],
   "source": [
    "fig, ax = plt.subplots(1)\n",
    "ax.set_xlabel(\"Dataset Size (bytes)\")\n",
    "ax.set_ylabel(\"Read/process Time (s)\")\n",
    "ax.set_title(\"Timing of SMALL and SNAP datasets\")\n",
    "ax.set_xscale(\"log\")\n",
    "ax.set_yscale(\"log\")\n",
    "pt = dfs[\"processtime\"]\n",
    "rt = dfs[\"readtime\"]\n",
    "numiters = dfs[\"numiters\"]\n",
    "size = dfs[\"size\"]\n",
    "ax.scatter(size,pt, label=\"process time\")\n",
    "ax.scatter(size,rt, label=\"read time\")\n",
    "ax.legend()"
   ]
  },
  {
   "cell_type": "code",
   "execution_count": 40,
   "id": "c1f75e81-0e98-44c6-853a-b5869badee25",
   "metadata": {},
   "outputs": [
    {
     "data": {
      "text/html": [
       "<div>\n",
       "<style scoped>\n",
       "    .dataframe tbody tr th:only-of-type {\n",
       "        vertical-align: middle;\n",
       "    }\n",
       "\n",
       "    .dataframe tbody tr th {\n",
       "        vertical-align: top;\n",
       "    }\n",
       "\n",
       "    .dataframe thead th {\n",
       "        text-align: right;\n",
       "    }\n",
       "</style>\n",
       "<table border=\"1\" class=\"dataframe\">\n",
       "  <thead>\n",
       "    <tr style=\"text-align: right;\">\n",
       "      <th></th>\n",
       "      <th>name</th>\n",
       "      <th>size</th>\n",
       "      <th>names</th>\n",
       "      <th>readtime</th>\n",
       "      <th>processtime</th>\n",
       "      <th>numiters</th>\n",
       "      <th>ps</th>\n",
       "    </tr>\n",
       "  </thead>\n",
       "  <tbody>\n",
       "    <tr>\n",
       "      <th>0</th>\n",
       "      <td>amazon0505.txt</td>\n",
       "      <td>3356824</td>\n",
       "      <td>[0, 1, 2, 3, 4, 5, 6, 7, 8, 9, 10, 11, 12, 13,...</td>\n",
       "      <td>17.921875</td>\n",
       "      <td>2.000000</td>\n",
       "      <td>24</td>\n",
       "      <td>[4.907962291929505e-07, 4.907962291929505e-07,...</td>\n",
       "    </tr>\n",
       "    <tr>\n",
       "      <th>1</th>\n",
       "      <td>eg.txt</td>\n",
       "      <td>5</td>\n",
       "      <td>[0, 1, 2, 3]</td>\n",
       "      <td>0.015625</td>\n",
       "      <td>0.000000</td>\n",
       "      <td>18</td>\n",
       "      <td>[0.07113425097882939, 0.09796411333200498, 0.7...</td>\n",
       "    </tr>\n",
       "    <tr>\n",
       "      <th>2</th>\n",
       "      <td>p2p-Gnutella05.txt</td>\n",
       "      <td>31839</td>\n",
       "      <td>[0, 1, 2, 3, 4, 5, 6, 7, 8, 9, 10, 11, 12, 13,...</td>\n",
       "      <td>0.140625</td>\n",
       "      <td>0.015625</td>\n",
       "      <td>7</td>\n",
       "      <td>[2.5881694211390537e-05, 4.0650580837822784e-0...</td>\n",
       "    </tr>\n",
       "    <tr>\n",
       "      <th>3</th>\n",
       "      <td>wiki-Vote.txt</td>\n",
       "      <td>103689</td>\n",
       "      <td>[3, 4, 5, 6, 7, 8, 9, 10, 11, 12, 13, 14, 15, ...</td>\n",
       "      <td>0.484375</td>\n",
       "      <td>0.031250</td>\n",
       "      <td>14</td>\n",
       "      <td>[8.492172101668637e-05, 2.108222066057625e-05,...</td>\n",
       "    </tr>\n",
       "  </tbody>\n",
       "</table>\n",
       "</div>"
      ],
      "text/plain": [
       "                 name     size  \\\n",
       "0      amazon0505.txt  3356824   \n",
       "1              eg.txt        5   \n",
       "2  p2p-Gnutella05.txt    31839   \n",
       "3       wiki-Vote.txt   103689   \n",
       "\n",
       "                                               names   readtime  processtime  \\\n",
       "0  [0, 1, 2, 3, 4, 5, 6, 7, 8, 9, 10, 11, 12, 13,...  17.921875     2.000000   \n",
       "1                                       [0, 1, 2, 3]   0.015625     0.000000   \n",
       "2  [0, 1, 2, 3, 4, 5, 6, 7, 8, 9, 10, 11, 12, 13,...   0.140625     0.015625   \n",
       "3  [3, 4, 5, 6, 7, 8, 9, 10, 11, 12, 13, 14, 15, ...   0.484375     0.031250   \n",
       "\n",
       "   numiters                                                 ps  \n",
       "0        24  [4.907962291929505e-07, 4.907962291929505e-07,...  \n",
       "1        18  [0.07113425097882939, 0.09796411333200498, 0.7...  \n",
       "2         7  [2.5881694211390537e-05, 4.0650580837822784e-0...  \n",
       "3        14  [8.492172101668637e-05, 2.108222066057625e-05,...  "
      ]
     },
     "execution_count": 40,
     "metadata": {},
     "output_type": "execute_result"
    }
   ],
   "source": [
    "dfSnap"
   ]
  },
  {
   "cell_type": "code",
   "execution_count": 39,
   "id": "911da28a-5a51-4a69-8d7a-cc2ecc9eb54e",
   "metadata": {},
   "outputs": [
    {
     "data": {
      "text/plain": [
       "[<matplotlib.lines.Line2D at 0x1ac000f8ca0>]"
      ]
     },
     "execution_count": 39,
     "metadata": {},
     "output_type": "execute_result"
    },
    {
     "data": {
      "image/png": "[encoded data removed]",
      "text/plain": [
       "<Figure size 432x288 with 1 Axes>"
      ]
     },
     "metadata": {
      "needs_background": "light"
     },
     "output_type": "display_data"
    }
   ],
   "source": [
    "ps=dfSmall.iloc[2][\"ps\"][:100]\n",
    "fig, ax = plt.subplots(1)\n",
    "ax.set_xlabel(\"Rank order\")\n",
    "ax.set_ylabel(\"Page Rank Value\")\n",
    "ax.set_title(\"Shape of page ranks\")\n",
    "ax.plot([i for i in range(len(ps))],sorted(ps)[::-1])\n"
   ]
  }
 ],
 "metadata": {
  "kernelspec": {
   "display_name": "Python 3",
   "language": "python",
   "name": "python3"
  },
  "language_info": {
   "codemirror_mode": {
    "name": "ipython",
    "version": 3
   },
   "file_extension": ".py",
   "mimetype": "text/x-python",
   "name": "python",
   "nbconvert_exporter": "python",
   "pygments_lexer": "ipython3",
   "version": "3.8.8"
  }
 },
 "nbformat": 4,
 "nbformat_minor": 5
}
