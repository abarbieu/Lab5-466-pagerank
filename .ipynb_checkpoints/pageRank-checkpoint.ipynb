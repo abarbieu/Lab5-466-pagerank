{
 "cells": [
  {
   "cell_type": "code",
   "execution_count": 1,
   "id": "b61c5d2f-721d-4509-8eeb-1a3c2d1c3ca7",
   "metadata": {},
   "outputs": [],
   "source": [
    "import numpy as np\n",
    "import pandas as pd\n",
    "import sys\n",
    "import re\n",
    "from scipy import sparse\n",
    "from tabulate import tabulate"
   ]
  },
  {
   "cell_type": "markdown",
   "id": "82f3003a-e91a-42f4-a169-64563bd17843",
   "metadata": {},
   "source": [
    "### Read SNAP data into list of lists"
   ]
  },
  {
   "cell_type": "code",
   "execution_count": 2,
   "id": "00292d00-4a0a-48c6-906d-3371cf2210e4",
   "metadata": {},
   "outputs": [],
   "source": [
    "# fname = './data/NCAA_football.csv'\n",
    "# with open(fname, 'r') as f:\n",
    "#     lines = [[int(node) for node in re.split('\\t',edge.strip('\\n'))[:2]] for edge in f.readlines() if edge[0][0] != '#']\n",
    "# edges = np.array(lines)\n",
    "# numItems = len(np.unique(np.array(lines)))"
   ]
  },
  {
   "cell_type": "markdown",
   "id": "06201b00-03e5-4e74-b900-acc073c16082",
   "metadata": {},
   "source": [
    "### Read small datasets into list of lists"
   ]
  },
  {
   "cell_type": "code",
   "execution_count": 3,
   "id": "59c2f88a-d160-495a-a60f-44509be1c434",
   "metadata": {
    "tags": []
   },
   "outputs": [],
   "source": [
    "# fname = './data/karate.csv'\n",
    "fname = './data/NCAA_football.csv'\n",
    "# fname = './data/eg.txt'\n",
    "df = pd.read_csv(fname, header=None, usecols=[i for i in range(4)])\n",
    "if type(df[2][0]) == str:\n",
    "    df[2] = df[2].str.replace('\"', '').str.strip()\n",
    "\n",
    "names = sorted(np.unique(np.concatenate((df[0].unique(),df[2].unique()))))\n",
    "\n",
    "a = np.array(df[0].apply(names.index))   \n",
    "b = np.array(df[2].apply(names.index))\n",
    "edges = np.array([b,a]).T\n",
    "numItems = len(names)"
   ]
  },
  {
   "cell_type": "markdown",
   "id": "0bec2477-375f-40d8-859a-de10b2a443e4",
   "metadata": {},
   "source": [
    "### Create adjacency matrix "
   ]
  },
  {
   "cell_type": "code",
   "execution_count": 4,
   "id": "854a5a36-326f-4ffc-8f1f-e5f637c5a6d6",
   "metadata": {},
   "outputs": [],
   "source": [
    "adj = sparse.lil_matrix((numItems, numItems))"
   ]
  },
  {
   "cell_type": "code",
   "execution_count": 5,
   "id": "7ae924ec-fa6a-4fc9-b15d-e6a77088e9d4",
   "metadata": {
    "tags": []
   },
   "outputs": [],
   "source": [
    "adj[edges[:,0], edges[:,1]] = 1"
   ]
  },
  {
   "cell_type": "markdown",
   "id": "454825e9-22ec-4a5c-b902-4e8a4e27d687",
   "metadata": {},
   "source": [
    "### Connect sink nodes to themselves"
   ]
  },
  {
   "cell_type": "code",
   "execution_count": 6,
   "id": "ce72ac01-89c3-4c5b-b70b-56ef7b79686d",
   "metadata": {
    "tags": []
   },
   "outputs": [],
   "source": [
    "degOut = adj.getnnz(axis = 1) # num of non zero values in row\n",
    "\n",
    "adj.setdiag(degOut == 0) # more efficient with lilmatrix\n",
    "adj = adj.tocsr()\n",
    "degOut = adj.getnnz(axis = 1) # num of non zero values in row"
   ]
  },
  {
   "cell_type": "markdown",
   "id": "be7c14b0-3eea-4226-b9ce-f6f614192adf",
   "metadata": {},
   "source": [
    "### Scale matrix by outgoing edges"
   ]
  },
  {
   "cell_type": "code",
   "execution_count": 7,
   "id": "97d2f4d7-f02f-4e67-99f9-c1ff90ef1208",
   "metadata": {},
   "outputs": [],
   "source": [
    "degOutRep = np.repeat(degOut, degOut) # degOut is the same as number of data points in row\n",
    "adj.data = adj.data / degOutRep"
   ]
  },
  {
   "cell_type": "markdown",
   "id": "f298a320-e218-4e56-bea6-83adc629fb39",
   "metadata": {},
   "source": [
    "### Initialize pageranks"
   ]
  },
  {
   "cell_type": "code",
   "execution_count": 22,
   "id": "86625609-d28f-4429-a7c5-0889a8843e9c",
   "metadata": {
    "collapsed": true,
    "jupyter": {
     "outputs_hidden": true
    },
    "tags": []
   },
   "outputs": [
    {
     "name": "stdout",
     "output_type": "stream",
     "text": [
      "['Adams State', 'Air Force', 'Akron', 'Alabama', 'Alabama A&M', 'Alabama State', 'Albany', 'Albion', 'Alcorn State', 'Angelo State', 'Appalachian State', 'Arizona', 'Arizona State', 'Arkansas', 'Arkansas State', 'Arkansas-Monticello', 'Arkansas-Pine Bluff', 'Army', 'Assumption', 'Auburn', 'Austin Peay', 'Azusa Pacific', 'Baker University', 'Ball State', 'Baylor', 'Benedict', 'Bentley College', 'Bethune-Cookman', 'Birmingham Southern', 'Boise State', 'Boston College', 'Bowling Green', 'Brigham Young', 'Brown', 'Bryant University', 'Bucknell', 'Buffalo', 'Butler', 'Cal Poly', 'California', 'Campbell', 'Carthage', 'Central Arkansas', 'Central Connecticut State', 'Central Methodist', 'Central Michigan', 'Central State', 'Central Washington', 'Charleston Southern', 'Chattanooga', 'Chowan', 'Cincinnati', 'Citadel', 'Clark Atlanta', 'Clemson', 'Coastal Carolina', 'Colgate', 'Colorado', 'Colorado State', 'Columbia', 'Concordia College', 'Concordia University (WI)', 'Connecticut', 'Cornell', 'Culver-Stockton', 'Cumberland University', 'Dartmouth', 'Davidson', 'Dayton', 'Delaware', 'Delaware State', 'Delaware Valley', 'Delta State', 'Dixie State', 'Drake', 'Duke', 'Duquesne', 'East Carolina', 'East Central Oklahoma', 'Eastern Illinois', 'Eastern Kentucky', 'Eastern Michigan', 'Eastern Washington', 'Edward Waters', 'Elon', 'Faulkner', 'Fayetteville State', 'Florida', 'Florida A&M', 'Florida Atlantic', 'Florida International', 'Florida State', 'Fordham', 'Franklin', 'Fresno State', 'Furman', 'Gardner-Webb', 'Georgetown', 'Georgia', 'Georgia Southern', 'Georgia Tech', 'Glenville State', 'Grambling State', 'Hampton', 'Harvard', 'Hawaii', 'Henderson State', 'Hofstra', 'Holy Cross', 'Houston', 'Howard', 'Humboldt State', 'Idaho', 'Idaho State', 'Illinois', 'Illinois State', 'Indiana', 'Indiana State', 'Iona', 'Iowa', 'Iowa State', 'Jackson State', 'Jacksonville', 'Jacksonville State', 'James Madison', 'Johnson Smith', 'Kansas', 'Kansas State', 'Kent State', 'Kentucky', 'Kentucky Wesleyan', 'LSU', 'Lafayette', 'Lambuth', 'Langston', 'Lehigh', 'Lenoir-Rhyne', 'Liberty', 'Lincoln (MO)', 'Livingstone', 'Louisiana Tech', 'Louisiana-Lafayette', 'Louisiana-Monroe', 'Louisville', 'Maine', 'Marian', 'Marist', 'Mars Hill', 'Marshall', 'Maryland', 'Massachusetts', 'McNeese State', 'Memphis', 'Merrimack', 'Methodist', 'Miami (FL)', 'Miami (OH)', 'Michigan', 'Michigan State', 'Middle Tennessee State', 'Minnesota', 'Mississippi', 'Mississippi State', 'Mississippi Valley State', 'Missouri', 'Missouri S&T', 'Missouri State', 'Monmouth', 'Montana', 'Montana State', 'Montana-Western', 'Morehead State', 'Morehouse', 'Morgan State', 'Murray State', 'Navy', 'Nebraska', 'Nevada', 'New Hampshire', 'New Mexico', 'New Mexico Highlands', 'New Mexico State', 'Nicholls State', 'Norfolk State', 'North Carolina', 'North Carolina A&T', 'North Carolina Central', 'North Carolina Pembroke', 'North Carolina State', 'North Dakota', 'North Dakota State', 'North Greenville', 'North Texas', 'Northeastern', 'Northern Arizona', 'Northern Colorado', 'Northern Illinois', 'Northern Iowa', 'Northwestern', 'Northwestern State', 'Notre Dame', 'Ohio', 'Ohio State', 'Oklahoma', 'Oklahoma State', 'Oregon', 'Oregon State', 'Pace', 'Penn State', 'Pennsylvania', 'Pittsburgh', 'Portland State', 'Prairie View A&M', 'Presbyterian', 'Princeton', 'Purdue', 'Quincy', 'Rhode Island', 'Rhodes', 'Rice', 'Richmond', 'Robert Morris', 'Rutgers', 'Sacramento State', 'Sacred Heart', 'Sam Houston State', 'Samford', 'San Diego', 'San Diego State', 'San Jose State', 'Savannah State', 'Shaw', 'Shorter', 'South Carolina', 'South Carolina State', 'South Dakota', 'South Dakota State', 'South Florida', 'Southeast Missouri State', 'Southeastern Louisiana', 'Southeastern Oklahoma', 'Southern Connecticut State', 'Southern Illinois', 'Southern Methodist', 'Southern Miss', 'Southern Oregon', 'Southern University', 'Southern Utah', 'Southern Virginia', 'Southwest Baptist', 'St. Ambrose', 'St. Cloud State', 'St. Francis (IL)', 'St. Francis (PA)', 'Stanford', 'Stephen F. Austin', 'Stillman', 'Stonehill', 'Stony Brook', 'Syracuse', 'TCU', 'Temple', 'Tennessee', 'Tennessee State', 'Tennessee Tech', 'Tennessee-Martin', 'Texas', 'Texas A&M', 'Texas A&M-Commerce', 'Texas A&M-Kingsville', 'Texas College', 'Texas Southern', 'Texas State', 'Texas Tech', 'Toledo', 'Towson', 'Troy', 'Tulane', 'Tulsa', 'Tusculum', 'Tuskegee', 'UAB', 'UC Davis', 'UCF', 'UCLA', 'UNLV', 'USC', 'UTEP', 'Upper Iowa', 'Utah', 'Utah State', 'Valparaiso', 'Vanderbilt', 'Villanova', 'Virginia', 'Virginia Military Institute', 'Virginia State', 'Virginia Tech', 'Wagner', 'Wake Forest', 'Washburn', 'Washington', 'Washington State', 'Webber International', 'Weber State', 'Wesley College', 'West Chester', 'West Georgia', 'West Virginia', 'Western Carolina', 'Western Illinois', 'Western Kentucky', 'Western Michigan', 'Western Oregon', 'Western Washington', 'William & Mary', 'William Penn', 'Winston-Salem', 'Wisconsin', 'Wisconsin-La Crosse', 'Wofford', 'Wyoming', 'Yale', 'Youngstown State']\n"
     ]
    }
   ],
   "source": [
    "print(names)"
   ]
  },
  {
   "cell_type": "code",
   "execution_count": 26,
   "id": "84220b22-a0ec-4fbd-b2bf-1155f1950339",
   "metadata": {},
   "outputs": [
    {
     "name": "stdout",
     "output_type": "stream",
     "text": [
      "         0   1                2   3\n",
      "47    Utah  25         Michigan  23\n",
      "227   Utah  42             UNLV  21\n",
      "332   Utah  58       Utah State  10\n",
      "397   Utah  30        Air Force  23\n",
      "551   Utah  37      Weber State  21\n",
      "567   Utah  31     Oregon State  28\n",
      "706   Utah  40          Wyoming   7\n",
      "807   Utah  49   Colorado State  16\n",
      "1100  Utah  13       New Mexico  10\n",
      "1108  Utah  13              TCU  10\n",
      "1321  Utah  63  San Diego State  14\n",
      "1410  Utah  48    Brigham Young  24\n",
      "1506  Utah  31          Alabama  17\n",
      "Empty DataFrame\n",
      "Columns: [0, 1, 2, 3]\n",
      "Index: []\n"
     ]
    }
   ],
   "source": [
    "print(df[df[0] == \"Utah\"])\n",
    "print(df[df[2] == \"Utah\"])"
   ]
  },
  {
   "cell_type": "markdown",
   "id": "f9ba365a-b6da-4cc9-8928-3125a790144f",
   "metadata": {},
   "source": [
    "### Iterate pagerank"
   ]
  },
  {
   "cell_type": "code",
   "execution_count": 8,
   "id": "437c25f2-f266-48d9-ab43-bf6980d9ee0d",
   "metadata": {},
   "outputs": [],
   "source": [
    "p = [1/adj.shape[0]] * adj.shape[0] "
   ]
  },
  {
   "cell_type": "code",
   "execution_count": 9,
   "id": "1197d3c8-438e-4b0e-80b9-42645daeacaf",
   "metadata": {},
   "outputs": [],
   "source": [
    "d = 0.9\n",
    "jProb = [(1-d)/len(p)] * len(p)"
   ]
  },
  {
   "cell_type": "code",
   "execution_count": 10,
   "id": "5d84529c-c389-489c-9fdf-7c2461166747",
   "metadata": {
    "tags": []
   },
   "outputs": [],
   "source": [
    "for i in range(30):\n",
    "    p = adj.T*p*d + jProb"
   ]
  },
  {
   "cell_type": "code",
   "execution_count": 11,
   "id": "89819b2c-6a1d-4467-9e74-b67f10351e55",
   "metadata": {},
   "outputs": [
    {
     "name": "stdout",
     "output_type": "stream",
     "text": [
      "1.000000000000001\n"
     ]
    }
   ],
   "source": [
    "print(sum(p))"
   ]
  },
  {
   "cell_type": "code",
   "execution_count": 12,
   "id": "034e9140-70eb-498f-9967-ac0e77a108f8",
   "metadata": {},
   "outputs": [
    {
     "name": "stdout",
     "output_type": "stream",
     "text": [
      "+-----+-----------------------------+-------------+\n",
      "|     | name                        |    pageRank |\n",
      "|-----+-----------------------------+-------------|\n",
      "|   0 | Utah                        | 0.168811    |\n",
      "|   1 | Mississippi                 | 0.0342903   |\n",
      "|   2 | Florida                     | 0.0270402   |\n",
      "|   3 | Wake Forest                 | 0.0170967   |\n",
      "|   4 | Oklahoma                    | 0.0155623   |\n",
      "|   5 | Alabama                     | 0.0152552   |\n",
      "|   6 | Texas Tech                  | 0.0152301   |\n",
      "|   7 | Virginia Tech               | 0.0145567   |\n",
      "|   8 | Oregon State                | 0.0139949   |\n",
      "|   9 | Vanderbilt                  | 0.0135798   |\n",
      "|  10 | Boston College              | 0.0127457   |\n",
      "|  11 | Texas                       | 0.0126105   |\n",
      "|  12 | Georgia Tech                | 0.0120252   |\n",
      "|  13 | North Carolina Pembroke     | 0.012012    |\n",
      "|  14 | South Carolina              | 0.0113403   |\n",
      "|  15 | Virginia                    | 0.0107675   |\n",
      "|  16 | USC                         | 0.010673    |\n",
      "|  17 | North Carolina              | 0.0103774   |\n",
      "|  18 | Florida State               | 0.0101563   |\n",
      "|  19 | Maryland                    | 0.00969705  |\n",
      "|  20 | Miami (FL)                  | 0.0095921   |\n",
      "|  21 | James Madison               | 0.00957945  |\n",
      "|  22 | North Carolina State        | 0.00954665  |\n",
      "|  23 | Richmond                    | 0.00924465  |\n",
      "|  24 | Duke                        | 0.00896516  |\n",
      "|  25 | Montana                     | 0.00886468  |\n",
      "|  26 | Clemson                     | 0.00876045  |\n",
      "|  27 | West Virginia               | 0.00827855  |\n",
      "|  28 | Georgia                     | 0.00801897  |\n",
      "|  29 | East Carolina               | 0.00759099  |\n",
      "|  30 | Pittsburgh                  | 0.00715041  |\n",
      "|  31 | TCU                         | 0.00695128  |\n",
      "|  32 | Penn State                  | 0.00687086  |\n",
      "|  33 | LSU                         | 0.00685364  |\n",
      "|  34 | Cincinnati                  | 0.00683338  |\n",
      "|  35 | Iowa                        | 0.00654366  |\n",
      "|  36 | Villanova                   | 0.00635829  |\n",
      "|  37 | Weber State                 | 0.00629224  |\n",
      "|  38 | Oregon                      | 0.0057236   |\n",
      "|  39 | California                  | 0.00558939  |\n",
      "|  40 | Franklin                    | 0.00555171  |\n",
      "|  41 | Rutgers                     | 0.00529149  |\n",
      "|  42 | Navy                        | 0.00513557  |\n",
      "|  43 | Connecticut                 | 0.00475409  |\n",
      "|  44 | Northwestern                | 0.00451941  |\n",
      "|  45 | Boise State                 | 0.00451453  |\n",
      "|  46 | Tulsa                       | 0.00445777  |\n",
      "|  47 | Wesley College              | 0.00443908  |\n",
      "|  48 | Stanford                    | 0.00418418  |\n",
      "|  49 | Michigan State              | 0.00410629  |\n",
      "|  50 | Marian                      | 0.00403343  |\n",
      "|  51 | St. Francis (IL)            | 0.00403343  |\n",
      "|  52 | Appalachian State           | 0.00394942  |\n",
      "|  53 | Missouri                    | 0.00394154  |\n",
      "|  54 | Washburn                    | 0.00388664  |\n",
      "|  55 | Houston                     | 0.00385676  |\n",
      "|  56 | Arkansas-Monticello         | 0.00383616  |\n",
      "|  57 | South Florida               | 0.00380721  |\n",
      "|  58 | Ohio State                  | 0.00377536  |\n",
      "|  59 | Brown                       | 0.00374203  |\n",
      "|  60 | Methodist                   | 0.0036142   |\n",
      "|  61 | Birmingham Southern         | 0.0036142   |\n",
      "|  62 | New Hampshire               | 0.00359029  |\n",
      "|  63 | Northern Iowa               | 0.00354991  |\n",
      "|  64 | Tennessee                   | 0.00342739  |\n",
      "|  65 | Arkansas                    | 0.00341481  |\n",
      "|  66 | Nebraska                    | 0.00340004  |\n",
      "|  67 | Mississippi State           | 0.0033145   |\n",
      "|  68 | Kentucky                    | 0.00322617  |\n",
      "|  69 | Jacksonville                | 0.00306651  |\n",
      "|  70 | Colorado                    | 0.00306536  |\n",
      "|  71 | Northwestern State          | 0.00302651  |\n",
      "|  72 | Oklahoma State              | 0.00294449  |\n",
      "|  73 | Central Arkansas            | 0.00294083  |\n",
      "|  74 | Arizona                     | 0.00284176  |\n",
      "|  75 | Ball State                  | 0.00277525  |\n",
      "|  76 | Harvard                     | 0.00277517  |\n",
      "|  77 | Kansas                      | 0.00272193  |\n",
      "|  78 | Albany                      | 0.00269381  |\n",
      "|  79 | Brigham Young               | 0.00266575  |\n",
      "|  80 | Southern Illinois           | 0.00263395  |\n",
      "|  81 | Southern Miss               | 0.00258524  |\n",
      "|  82 | Holy Cross                  | 0.00255852  |\n",
      "|  83 | South Carolina State        | 0.00254225  |\n",
      "|  84 | Hawaii                      | 0.00252967  |\n",
      "|  85 | Massachusetts               | 0.00252461  |\n",
      "|  86 | Buffalo                     | 0.00251128  |\n",
      "|  87 | Dayton                      | 0.00249734  |\n",
      "|  88 | Rice                        | 0.00246803  |\n",
      "|  89 | Grambling State             | 0.00246585  |\n",
      "|  90 | Colgate                     | 0.00245381  |\n",
      "|  91 | Nevada                      | 0.00244612  |\n",
      "|  92 | Middle Tennessee State      | 0.00243573  |\n",
      "|  93 | Bowling Green               | 0.00241439  |\n",
      "|  94 | Eastern Washington          | 0.00239418  |\n",
      "|  95 | Notre Dame                  | 0.00235951  |\n",
      "|  96 | Illinois                    | 0.00230832  |\n",
      "|  97 | Nicholls State              | 0.00230807  |\n",
      "|  98 | Maine                       | 0.00230627  |\n",
      "|  99 | Liberty                     | 0.00227306  |\n",
      "| 100 | Yale                        | 0.00226584  |\n",
      "| 101 | Lafayette                   | 0.00218959  |\n",
      "| 102 | Wisconsin                   | 0.00213258  |\n",
      "| 103 | William & Mary              | 0.00212837  |\n",
      "| 104 | Wofford                     | 0.00212176  |\n",
      "| 105 | Texas State                 | 0.00206631  |\n",
      "| 106 | McNeese State               | 0.00204166  |\n",
      "| 107 | Auburn                      | 0.00196255  |\n",
      "| 108 | San Diego                   | 0.00195288  |\n",
      "| 109 | Air Force                   | 0.0019412   |\n",
      "| 110 | Furman                      | 0.00192982  |\n",
      "| 111 | Florida A&M                 | 0.00190946  |\n",
      "| 112 | Colorado State              | 0.00190423  |\n",
      "| 113 | Presbyterian                | 0.00187937  |\n",
      "| 114 | Monmouth                    | 0.00187686  |\n",
      "| 115 | Eastern Kentucky            | 0.00183551  |\n",
      "| 116 | Fresno State                | 0.00182692  |\n",
      "| 117 | Cal Poly                    | 0.00182155  |\n",
      "| 118 | Rhode Island                | 0.00181683  |\n",
      "| 119 | Tennessee State             | 0.00180604  |\n",
      "| 120 | Minnesota                   | 0.0017831   |\n",
      "| 121 | Stony Brook                 | 0.00176709  |\n",
      "| 122 | Elon                        | 0.00173495  |\n",
      "| 123 | Louisville                  | 0.00169472  |\n",
      "| 124 | North Dakota State          | 0.0016927   |\n",
      "| 125 | Southeastern Louisiana      | 0.00168528  |\n",
      "| 126 | Central Michigan            | 0.00167408  |\n",
      "| 127 | Louisiana Tech              | 0.00166349  |\n",
      "| 128 | Central Connecticut State   | 0.00166194  |\n",
      "| 129 | Marshall                    | 0.0016373   |\n",
      "| 130 | Tennessee-Martin            | 0.00160822  |\n",
      "| 131 | Western Michigan            | 0.00158667  |\n",
      "| 132 | Delaware                    | 0.00157786  |\n",
      "| 133 | Davidson                    | 0.00157569  |\n",
      "| 134 | Morehead State              | 0.00157205  |\n",
      "| 135 | North Dakota                | 0.00157181  |\n",
      "| 136 | Indiana                     | 0.00156586  |\n",
      "| 137 | Sacred Heart                | 0.00154075  |\n",
      "| 138 | Delaware State              | 0.0015148   |\n",
      "| 139 | UCF                         | 0.00149077  |\n",
      "| 140 | Sacramento State            | 0.00147417  |\n",
      "| 141 | Charleston Southern         | 0.00145281  |\n",
      "| 142 | Lehigh                      | 0.00145143  |\n",
      "| 143 | Drake                       | 0.00145007  |\n",
      "| 144 | Troy                        | 0.00141972  |\n",
      "| 145 | Morgan State                | 0.00141663  |\n",
      "| 146 | Bryant University           | 0.00141349  |\n",
      "| 147 | Memphis                     | 0.00139664  |\n",
      "| 148 | South Dakota                | 0.00137557  |\n",
      "| 149 | Butler                      | 0.00136961  |\n",
      "| 150 | Jacksonville State          | 0.0013686   |\n",
      "| 151 | UCLA                        | 0.00134906  |\n",
      "| 152 | Montana State               | 0.00134543  |\n",
      "| 153 | Bethune-Cookman             | 0.00130642  |\n",
      "| 154 | Coastal Carolina            | 0.00129783  |\n",
      "| 155 | Prairie View A&M            | 0.00129647  |\n",
      "| 156 | Stephen F. Austin           | 0.0012882   |\n",
      "| 157 | Southern Utah               | 0.00127676  |\n",
      "| 158 | Arizona State               | 0.00127385  |\n",
      "| 159 | Sam Houston State           | 0.00126407  |\n",
      "| 160 | Pennsylvania                | 0.00125941  |\n",
      "| 161 | Murray State                | 0.00125162  |\n",
      "| 162 | Gardner-Webb                | 0.00124345  |\n",
      "| 163 | Samford                     | 0.00124292  |\n",
      "| 164 | Fordham                     | 0.00123937  |\n",
      "| 165 | South Dakota State          | 0.00122428  |\n",
      "| 166 | Hampton                     | 0.00122379  |\n",
      "| 167 | Cornell                     | 0.00121352  |\n",
      "| 168 | Iona                        | 0.00120236  |\n",
      "| 169 | Florida Atlantic            | 0.00119806  |\n",
      "| 170 | Northern Arizona            | 0.00118717  |\n",
      "| 171 | Wyoming                     | 0.00117908  |\n",
      "| 172 | Louisiana-Lafayette         | 0.00115943  |\n",
      "| 173 | Robert Morris               | 0.00115862  |\n",
      "| 174 | Duquesne                    | 0.00115019  |\n",
      "| 175 | Savannah State              | 0.00113906  |\n",
      "| 176 | UTEP                        | 0.00113469  |\n",
      "| 177 | UC Davis                    | 0.00113385  |\n",
      "| 178 | Arkansas State              | 0.00112401  |\n",
      "| 179 | Kent State                  | 0.00109374  |\n",
      "| 180 | Portland State              | 0.00109239  |\n",
      "| 181 | New Mexico                  | 0.00108034  |\n",
      "| 182 | Western Illinois            | 0.0010674   |\n",
      "| 183 | Southeast Missouri State    | 0.00106561  |\n",
      "| 184 | Northern Illinois           | 0.00105944  |\n",
      "| 185 | Baylor                      | 0.00105934  |\n",
      "| 186 | Jackson State               | 0.00104018  |\n",
      "| 187 | San Jose State              | 0.0010226   |\n",
      "| 188 | Virginia Military Institute | 0.00101778  |\n",
      "| 189 | Norfolk State               | 0.00100125  |\n",
      "| 190 | Bucknell                    | 0.000997127 |\n",
      "| 191 | Eastern Michigan            | 0.000995283 |\n",
      "| 192 | Marist                      | 0.000989784 |\n",
      "| 193 | Michigan                    | 0.000979901 |\n",
      "| 194 | Texas A&M                   | 0.000965324 |\n",
      "| 195 | Florida International       | 0.000960596 |\n",
      "| 196 | Georgia Southern            | 0.000959459 |\n",
      "| 197 | Hofstra                     | 0.000952706 |\n",
      "| 198 | Miami (OH)                  | 0.000932305 |\n",
      "| 199 | Syracuse                    | 0.00092821  |\n",
      "| 200 | Kansas State                | 0.000923769 |\n",
      "| 201 | Youngstown State            | 0.000921201 |\n",
      "| 202 | Southern University         | 0.000909449 |\n",
      "| 203 | Purdue                      | 0.000896232 |\n",
      "| 204 | Tennessee Tech              | 0.000892818 |\n",
      "| 205 | Western Kentucky            | 0.000882555 |\n",
      "| 206 | New Mexico State            | 0.000862445 |\n",
      "| 207 | UNLV                        | 0.000861251 |\n",
      "| 208 | Western Carolina            | 0.000845828 |\n",
      "| 209 | Valparaiso                  | 0.000841786 |\n",
      "| 210 | Army                        | 0.000823409 |\n",
      "| 211 | North Carolina Central      | 0.000821263 |\n",
      "| 212 | Texas Southern              | 0.000812601 |\n",
      "| 213 | Louisiana-Monroe            | 0.000806437 |\n",
      "| 214 | Winston-Salem               | 0.000797103 |\n",
      "| 215 | Princeton                   | 0.000794488 |\n",
      "| 216 | UAB                         | 0.000788985 |\n",
      "| 217 | Alabama State               | 0.000777606 |\n",
      "| 218 | Eastern Illinois            | 0.000768964 |\n",
      "| 219 | Akron                       | 0.000765385 |\n",
      "| 220 | Towson                      | 0.000761145 |\n",
      "| 221 | Utah State                  | 0.000759571 |\n",
      "| 222 | Temple                      | 0.000756622 |\n",
      "| 223 | Arkansas-Pine Bluff         | 0.000749736 |\n",
      "| 224 | Ohio                        | 0.000744859 |\n",
      "| 225 | North Carolina A&T          | 0.000717052 |\n",
      "| 226 | Southern Methodist          | 0.000680578 |\n",
      "| 227 | Alabama A&M                 | 0.000676584 |\n",
      "| 228 | Citadel                     | 0.00065297  |\n",
      "| 229 | Iowa State                  | 0.000652058 |\n",
      "| 230 | Rhodes                      | 0.000646477 |\n",
      "| 231 | Mississippi Valley State    | 0.000639102 |\n",
      "| 232 | Missouri State              | 0.000622395 |\n",
      "| 233 | Wagner                      | 0.000596418 |\n",
      "| 234 | Illinois State              | 0.000596348 |\n",
      "| 235 | Toledo                      | 0.000590068 |\n",
      "| 236 | Chattanooga                 | 0.00058642  |\n",
      "| 237 | Campbell                    | 0.00058642  |\n",
      "| 238 | Northeastern                | 0.000530537 |\n",
      "| 239 | Idaho State                 | 0.000529768 |\n",
      "| 240 | Columbia                    | 0.000518447 |\n",
      "| 241 | Austin Peay                 | 0.000496791 |\n",
      "| 242 | Georgetown                  | 0.000476858 |\n",
      "| 243 | Washington State            | 0.000472241 |\n",
      "| 244 | San Diego State             | 0.000458815 |\n",
      "| 245 | Alcorn State                | 0.000455515 |\n",
      "| 246 | Howard                      | 0.000455092 |\n",
      "| 247 | Edward Waters               | 0.000455092 |\n",
      "| 248 | Tulane                      | 0.00045505  |\n",
      "| 249 | Idaho                       | 0.000438231 |\n",
      "| 250 | Fayetteville State          | 0.000414233 |\n",
      "| 251 | Tuskegee                    | 0.000395631 |\n",
      "| 252 | North Texas                 | 0.000388072 |\n",
      "| 253 | Henderson State             | 0.000383616 |\n",
      "| 254 | Stonehill                   | 0.000375739 |\n",
      "| 255 | Northern Colorado           | 0.000351987 |\n",
      "| 256 | Upper Iowa                  | 0.000308642 |\n",
      "| 257 | William Penn                | 0.000308642 |\n",
      "| 258 | Chowan                      | 0.000308642 |\n",
      "| 259 | Clark Atlanta               | 0.000308642 |\n",
      "| 260 | Western Washington          | 0.000308642 |\n",
      "| 261 | Albion                      | 0.000308642 |\n",
      "| 262 | Western Oregon              | 0.000308642 |\n",
      "| 263 | Wisconsin-La Crosse         | 0.000308642 |\n",
      "| 264 | Central Washington          | 0.000308642 |\n",
      "| 265 | Washington                  | 0.000308642 |\n",
      "| 266 | Central State               | 0.000308642 |\n",
      "| 267 | Angelo State                | 0.000308642 |\n",
      "| 268 | West Georgia                | 0.000308642 |\n",
      "| 269 | Assumption                  | 0.000308642 |\n",
      "| 270 | Central Methodist           | 0.000308642 |\n",
      "| 271 | Carthage                    | 0.000308642 |\n",
      "| 272 | Bentley College             | 0.000308642 |\n",
      "| 273 | Virginia State              | 0.000308642 |\n",
      "| 274 | Benedict                    | 0.000308642 |\n",
      "| 275 | Baker University            | 0.000308642 |\n",
      "| 276 | Webber International        | 0.000308642 |\n",
      "| 277 | Azusa Pacific               | 0.000308642 |\n",
      "| 278 | West Chester                | 0.000308642 |\n",
      "| 279 | Delta State                 | 0.000308642 |\n",
      "| 280 | Tusculum                    | 0.000308642 |\n",
      "| 281 | Concordia College           | 0.000308642 |\n",
      "| 282 | Indiana State               | 0.000308642 |\n",
      "| 283 | Johnson Smith               | 0.000308642 |\n",
      "| 284 | Shorter                     | 0.000308642 |\n",
      "| 285 | Shaw                        | 0.000308642 |\n",
      "| 286 | Kentucky Wesleyan           | 0.000308642 |\n",
      "| 287 | Lambuth                     | 0.000308642 |\n",
      "| 288 | Langston                    | 0.000308642 |\n",
      "| 289 | Lenoir-Rhyne                | 0.000308642 |\n",
      "| 290 | Lincoln (MO)                | 0.000308642 |\n",
      "| 291 | Livingstone                 | 0.000308642 |\n",
      "| 292 | Mars Hill                   | 0.000308642 |\n",
      "| 293 | Merrimack                   | 0.000308642 |\n",
      "| 294 | Missouri S&T                | 0.000308642 |\n",
      "| 295 | Quincy                      | 0.000308642 |\n",
      "| 296 | Montana-Western             | 0.000308642 |\n",
      "| 297 | Morehouse                   | 0.000308642 |\n",
      "| 298 | New Mexico Highlands        | 0.000308642 |\n",
      "| 299 | Pace                        | 0.000308642 |\n",
      "| 300 | North Greenville            | 0.000308642 |\n",
      "| 301 | Humboldt State              | 0.000308642 |\n",
      "| 302 | Southeastern Oklahoma       | 0.000308642 |\n",
      "| 303 | Southern Connecticut State  | 0.000308642 |\n",
      "| 304 | Dixie State                 | 0.000308642 |\n",
      "| 305 | Concordia University (WI)   | 0.000308642 |\n",
      "| 306 | Culver-Stockton             | 0.000308642 |\n",
      "| 307 | Texas College               | 0.000308642 |\n",
      "| 308 | Texas A&M-Kingsville        | 0.000308642 |\n",
      "| 309 | Texas A&M-Commerce          | 0.000308642 |\n",
      "| 310 | Cumberland University       | 0.000308642 |\n",
      "| 311 | Dartmouth                   | 0.000308642 |\n",
      "| 312 | Delaware Valley             | 0.000308642 |\n",
      "| 313 | East Central Oklahoma       | 0.000308642 |\n",
      "| 314 | Southern Oregon             | 0.000308642 |\n",
      "| 315 | Stillman                    | 0.000308642 |\n",
      "| 316 | Faulkner                    | 0.000308642 |\n",
      "| 317 | St. Francis (PA)            | 0.000308642 |\n",
      "| 318 | St. Cloud State             | 0.000308642 |\n",
      "| 319 | St. Ambrose                 | 0.000308642 |\n",
      "| 320 | Southwest Baptist           | 0.000308642 |\n",
      "| 321 | Southern Virginia           | 0.000308642 |\n",
      "| 322 | Glenville State             | 0.000308642 |\n",
      "| 323 | Adams State                 | 0.000308642 |\n",
      "+-----+-----------------------------+-------------+\n"
     ]
    }
   ],
   "source": [
    "output = []\n",
    "for i in range(len(p)):\n",
    "    output.append([names[i],p[i]])\n",
    "output = pd.DataFrame(output, columns = ['name', 'pageRank'])\n",
    "output = output.sort_values(by=['pageRank'], ascending=False)\n",
    "output = output.reset_index().drop(columns=['index'])\n",
    "\n",
    "print(tabulate(output, headers='keys', tablefmt='psql'))\n",
    "# i=1\n",
    "# for r in output.itertuples():\n",
    "#     print(f\"{i} {r[1]} with pagerank: {r[2]}\")\n",
    "#     i+=1"
   ]
  },
  {
   "cell_type": "markdown",
   "id": "6f36b8fb-8e59-4da0-b27c-22eadf1f1388",
   "metadata": {},
   "source": [
    "# --- testing ---"
   ]
  },
  {
   "cell_type": "code",
   "execution_count": 13,
   "id": "3688547f-1508-482f-b8c2-d2369b229ab3",
   "metadata": {},
   "outputs": [],
   "source": [
    "fname = './data/eg.txt'\n",
    "with open(fname, 'r') as f:\n",
    "    lns = [[int(node) for node in re.split('\\t',edge.strip('\\n'))[:2]] for edge in f.readlines() if edge[0][0] != '#']\n",
    "    \n",
    "e = np.array(lns)\n",
    "n = np.unique(e)"
   ]
  },
  {
   "cell_type": "code",
   "execution_count": 14,
   "id": "4338b933-9c42-4a4a-a4fe-37fc1f8f1276",
   "metadata": {},
   "outputs": [],
   "source": [
    "p = [1/len(n)]*len(n) # page rank\n",
    "\n",
    "m = sparse.lil_matrix((len(n),len(n)))\n",
    "m[e[:,0],e[:,1]] =  1\n",
    "msumrow = m.sum(axis = 1) \n",
    "m.setdiag(msumrow == 0)"
   ]
  },
  {
   "cell_type": "code",
   "execution_count": 15,
   "id": "3596b5c1-276c-4647-8b67-5f73e8839e8e",
   "metadata": {},
   "outputs": [
    {
     "name": "stdout",
     "output_type": "stream",
     "text": [
      "[[1. 2. 3.]\n",
      " [1. 2. 3.]]\n"
     ]
    }
   ],
   "source": [
    "c = sparse.csr_matrix([[2,4,6], [5,10,15]])\n",
    "d = np.array([2,5])\n",
    "\n",
    "val = np.repeat(d, c.getnnz(axis=1))\n",
    "c.data = c.data / val\n",
    "print(c.todense())"
   ]
  },
  {
   "cell_type": "code",
   "execution_count": 16,
   "id": "33a26792-1872-4847-bc7b-35853df1fb07",
   "metadata": {},
   "outputs": [
    {
     "name": "stdout",
     "output_type": "stream",
     "text": [
      "[[0.  1.  0.  0. ]\n",
      " [0.  0.  0.5 0.5]\n",
      " [0.  0.  1.  0. ]\n",
      " [0.5 0.  0.5 0. ]]\n"
     ]
    }
   ],
   "source": [
    "c = m.tocsr()\n",
    "d = np.array(m.sum(axis=1))\n",
    "\n",
    "val = np.repeat(d, c.getnnz(axis=1))\n",
    "\n",
    "c.data = c.data / val\n",
    "\n",
    "print(c.todense())"
   ]
  },
  {
   "cell_type": "code",
   "execution_count": 17,
   "id": "6ab801fa-f874-4366-b4a5-8409395afdc9",
   "metadata": {
    "tags": []
   },
   "outputs": [
    {
     "name": "stdout",
     "output_type": "stream",
     "text": [
      "[[0.  1.  0.  0. ]\n",
      " [0.  0.  0.5 0.5]\n",
      " [nan nan inf nan]\n",
      " [0.5 0.  0.5 0. ]]\n"
     ]
    },
    {
     "name": "stderr",
     "output_type": "stream",
     "text": [
      "/opt/anaconda3/lib/python3.8/site-packages/scipy/sparse/base.py:595: RuntimeWarning: divide by zero encountered in true_divide\n",
      "  return np.true_divide(self.todense(), other)\n",
      "/opt/anaconda3/lib/python3.8/site-packages/scipy/sparse/base.py:595: RuntimeWarning: invalid value encountered in true_divide\n",
      "  return np.true_divide(self.todense(), other)\n"
     ]
    }
   ],
   "source": [
    "m = m.tocsr()\n",
    "m /= msumrow\n",
    "print(m)"
   ]
  },
  {
   "cell_type": "code",
   "execution_count": 18,
   "id": "d9b11190-e493-46a5-96a4-a28d8ef22db6",
   "metadata": {},
   "outputs": [
    {
     "name": "stdout",
     "output_type": "stream",
     "text": [
      "[]\n"
     ]
    }
   ],
   "source": [
    "# print(m.todense())\n",
    "# print(np.array((m.sum(axis=1) == 0).flatten())[0])\n",
    "mask = np.array((m.sum(axis=1) == 0).flatten())[0]\n",
    "# print(mask)\n",
    "print(m[mask])"
   ]
  },
  {
   "cell_type": "code",
   "execution_count": 19,
   "id": "a06bdc8b-4704-404b-84ee-444a30de3af4",
   "metadata": {},
   "outputs": [],
   "source": [
    "def set_sink_diags(adjm):\n",
    "    # takes adjacency matrix\n",
    "    # returns updated matrix whose diagonal will be 1 if that row is a sink node\n",
    "    sums = adjm.sum(axis=1)\n",
    "    for i in range(adjm.shape[0]):\n",
    "        if sums[i] == 0:\n",
    "            adjm[i,i] = 1"
   ]
  },
  {
   "cell_type": "code",
   "execution_count": 20,
   "id": "044053ca-c6c9-468c-9111-baead2f472b8",
   "metadata": {},
   "outputs": [
    {
     "name": "stdout",
     "output_type": "stream",
     "text": [
      "[[0.  1.  0.  0. ]\n",
      " [0.  0.  0.5 0.5]\n",
      " [nan nan nan nan]\n",
      " [0.5 0.  0.5 0. ]]\n"
     ]
    }
   ],
   "source": [
    "m /= m.sum(axis=1)\n",
    "print(m)"
   ]
  }
 ],
 "metadata": {
  "kernelspec": {
   "display_name": "Python 3",
   "language": "python",
   "name": "python3"
  },
  "language_info": {
   "codemirror_mode": {
    "name": "ipython",
    "version": 3
   },
   "file_extension": ".py",
   "mimetype": "text/x-python",
   "name": "python",
   "nbconvert_exporter": "python",
   "pygments_lexer": "ipython3",
   "version": "3.8.8"
  }
 },
 "nbformat": 4,
 "nbformat_minor": 5
}
