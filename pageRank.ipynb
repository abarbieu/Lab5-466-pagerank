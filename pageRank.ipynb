{
 "cells": [
  {
   "cell_type": "code",
   "execution_count": 1,
   "id": "b61c5d2f-721d-4509-8eeb-1a3c2d1c3ca7",
   "metadata": {},
   "outputs": [],
   "source": [
    "import numpy as np\n",
    "import pandas as pd\n",
    "import sys\n",
    "import re\n",
    "from scipy import sparse"
   ]
  },
  {
   "cell_type": "markdown",
   "id": "82f3003a-e91a-42f4-a169-64563bd17843",
   "metadata": {},
   "source": [
    "### Read SNAP data into list of lists"
   ]
  },
  {
   "cell_type": "code",
   "execution_count": 18,
   "id": "59c2f88a-d160-495a-a60f-44509be1c434",
   "metadata": {
    "tags": []
   },
   "outputs": [],
   "source": [
    "# fname = './data/NCAA_football.csv'\n",
    "fname = './data/amazon0505.txt'\n",
    "with open(fname, 'r') as f:\n",
    "    lines = [[int(node) for node in re.split('\\t',edge.strip('\\n'))[:2]] for edge in f.readlines() if edge[0][0] != '#']"
   ]
  },
  {
   "cell_type": "code",
   "execution_count": 19,
   "id": "56ab414b-d5ab-4aa0-96a6-16d33072ba0e",
   "metadata": {},
   "outputs": [],
   "source": [
    "edges = np.array(lines)"
   ]
  },
  {
   "cell_type": "markdown",
   "id": "c4760740-e72d-4c59-92a8-721d5c4cba65",
   "metadata": {},
   "source": [
    "### Get unique list of nodes"
   ]
  },
  {
   "cell_type": "code",
   "execution_count": 20,
   "id": "1fbeab94-6aeb-4d07-af0e-5e8dd7edacc7",
   "metadata": {},
   "outputs": [],
   "source": [
    "nodes = np.unique(np.array(lines))"
   ]
  },
  {
   "cell_type": "markdown",
   "id": "0bec2477-375f-40d8-859a-de10b2a443e4",
   "metadata": {},
   "source": [
    "### Convert lines to scipy.sparse.lil"
   ]
  },
  {
   "cell_type": "code",
   "execution_count": 21,
   "id": "854a5a36-326f-4ffc-8f1f-e5f637c5a6d6",
   "metadata": {},
   "outputs": [],
   "source": [
    "adj = sparse.lil_matrix((len(nodes), len(nodes)))"
   ]
  },
  {
   "cell_type": "code",
   "execution_count": 22,
   "id": "7ae924ec-fa6a-4fc9-b15d-e6a77088e9d4",
   "metadata": {
    "tags": []
   },
   "outputs": [],
   "source": [
    "adj[edges[:,0], edges[:,1]] = 1"
   ]
  },
  {
   "cell_type": "markdown",
   "id": "454825e9-22ec-4a5c-b902-4e8a4e27d687",
   "metadata": {},
   "source": [
    "### Connect sink nodes to themselves"
   ]
  },
  {
   "cell_type": "code",
   "execution_count": 23,
   "id": "ce72ac01-89c3-4c5b-b70b-56ef7b79686d",
   "metadata": {
    "tags": []
   },
   "outputs": [],
   "source": [
    "degOut = adj.getnnz(axis = 1) # num of non zero values in row\n",
    "\n",
    "adj.setdiag(degOut == 0) # more efficient with lilmatrix\n",
    "adj = adj.tocsr()\n",
    "degOut = adj.getnnz(axis = 1) # num of non zero values in row"
   ]
  },
  {
   "cell_type": "markdown",
   "id": "be7c14b0-3eea-4226-b9ce-f6f614192adf",
   "metadata": {},
   "source": [
    "### Scale matrix by outgoing edges"
   ]
  },
  {
   "cell_type": "code",
   "execution_count": 24,
   "id": "97d2f4d7-f02f-4e67-99f9-c1ff90ef1208",
   "metadata": {},
   "outputs": [],
   "source": [
    "degOutRep = np.repeat(degOut, degOut) # degOut is the same as number of data points in row\n",
    "adj.data = adj.data / degOutRep"
   ]
  },
  {
   "cell_type": "markdown",
   "id": "f298a320-e218-4e56-bea6-83adc629fb39",
   "metadata": {},
   "source": [
    "### Initialize pageranks"
   ]
  },
  {
   "cell_type": "code",
   "execution_count": null,
   "id": "84220b22-a0ec-4fbd-b2bf-1155f1950339",
   "metadata": {},
   "outputs": [],
   "source": [
    "p = []"
   ]
  },
  {
   "cell_type": "markdown",
   "id": "6f36b8fb-8e59-4da0-b27c-22eadf1f1388",
   "metadata": {},
   "source": [
    "# --- testing ---"
   ]
  },
  {
   "cell_type": "code",
   "execution_count": 25,
   "id": "3688547f-1508-482f-b8c2-d2369b229ab3",
   "metadata": {},
   "outputs": [],
   "source": [
    "fname = './data/eg.txt'\n",
    "with open(fname, 'r') as f:\n",
    "    lns = [[int(node) for node in re.split('\\t',edge.strip('\\n'))[:2]] for edge in f.readlines() if edge[0][0] != '#']\n",
    "    \n",
    "e = np.array(lns)\n",
    "n = np.unique(e)"
   ]
  },
  {
   "cell_type": "code",
   "execution_count": 26,
   "id": "4338b933-9c42-4a4a-a4fe-37fc1f8f1276",
   "metadata": {},
   "outputs": [],
   "source": [
    "p = [1/len(n)]*len(n) # page rank\n",
    "\n",
    "m = sparse.lil_matrix((len(n),len(n)))\n",
    "m[e[:,0],e[:,1]] =  1\n",
    "msumrow = m.sum(axis = 1) \n",
    "m.setdiag(msumrow == 0)"
   ]
  },
  {
   "cell_type": "code",
   "execution_count": 27,
   "id": "3596b5c1-276c-4647-8b67-5f73e8839e8e",
   "metadata": {},
   "outputs": [
    {
     "name": "stdout",
     "output_type": "stream",
     "text": [
      "[[1. 2. 3.]\n",
      " [1. 2. 3.]]\n"
     ]
    }
   ],
   "source": [
    "c = sparse.csr_matrix([[2,4,6], [5,10,15]])\n",
    "d = np.array([2,5])\n",
    "\n",
    "val = np.repeat(d, c.getnnz(axis=1))\n",
    "c.data = c.data / val\n",
    "print(c.todense())"
   ]
  },
  {
   "cell_type": "code",
   "execution_count": 12,
   "id": "33a26792-1872-4847-bc7b-35853df1fb07",
   "metadata": {},
   "outputs": [
    {
     "name": "stdout",
     "output_type": "stream",
     "text": [
      "[[0.  1.  0.  0. ]\n",
      " [0.  0.  0.5 0.5]\n",
      " [0.  0.  1.  0. ]\n",
      " [0.5 0.  0.5 0. ]]\n"
     ]
    }
   ],
   "source": [
    "c = m.tocsr()\n",
    "d = np.array(m.sum(axis=1))\n",
    "\n",
    "val = np.repeat(d, c.getnnz(axis=1))\n",
    "\n",
    "c.data = c.data / val\n",
    "\n",
    "print(c.todense())"
   ]
  },
  {
   "cell_type": "code",
   "execution_count": 13,
   "id": "6ab801fa-f874-4366-b4a5-8409395afdc9",
   "metadata": {
    "tags": []
   },
   "outputs": [
    {
     "name": "stdout",
     "output_type": "stream",
     "text": [
      "[[0.  1.  0.  0. ]\n",
      " [0.  0.  0.5 0.5]\n",
      " [nan nan inf nan]\n",
      " [0.5 0.  0.5 0. ]]\n"
     ]
    },
    {
     "name": "stderr",
     "output_type": "stream",
     "text": [
      "/opt/anaconda3/lib/python3.8/site-packages/scipy/sparse/base.py:595: RuntimeWarning: divide by zero encountered in true_divide\n",
      "  return np.true_divide(self.todense(), other)\n",
      "/opt/anaconda3/lib/python3.8/site-packages/scipy/sparse/base.py:595: RuntimeWarning: invalid value encountered in true_divide\n",
      "  return np.true_divide(self.todense(), other)\n"
     ]
    }
   ],
   "source": [
    "m = m.tocsr()\n",
    "m /= msumrow\n",
    "print(m)"
   ]
  },
  {
   "cell_type": "code",
   "execution_count": 14,
   "id": "d9b11190-e493-46a5-96a4-a28d8ef22db6",
   "metadata": {},
   "outputs": [
    {
     "name": "stdout",
     "output_type": "stream",
     "text": [
      "[]\n"
     ]
    }
   ],
   "source": [
    "# print(m.todense())\n",
    "# print(np.array((m.sum(axis=1) == 0).flatten())[0])\n",
    "mask = np.array((m.sum(axis=1) == 0).flatten())[0]\n",
    "# print(mask)\n",
    "print(m[mask])"
   ]
  },
  {
   "cell_type": "code",
   "execution_count": 15,
   "id": "a06bdc8b-4704-404b-84ee-444a30de3af4",
   "metadata": {},
   "outputs": [],
   "source": [
    "def set_sink_diags(adjm):\n",
    "    # takes adjacency matrix\n",
    "    # returns updated matrix whose diagonal will be 1 if that row is a sink node\n",
    "    sums = adjm.sum(axis=1)\n",
    "    for i in range(adjm.shape[0]):\n",
    "        if sums[i] == 0:\n",
    "            adjm[i,i] = 1"
   ]
  },
  {
   "cell_type": "code",
   "execution_count": 16,
   "id": "044053ca-c6c9-468c-9111-baead2f472b8",
   "metadata": {},
   "outputs": [
    {
     "name": "stdout",
     "output_type": "stream",
     "text": [
      "[[0.  1.  0.  0. ]\n",
      " [0.  0.  0.5 0.5]\n",
      " [nan nan nan nan]\n",
      " [0.5 0.  0.5 0. ]]\n"
     ]
    }
   ],
   "source": [
    "m /= m.sum(axis=1)\n",
    "print(m)"
   ]
  }
 ],
 "metadata": {
  "kernelspec": {
   "display_name": "Python 3",
   "language": "python",
   "name": "python3"
  },
  "language_info": {
   "codemirror_mode": {
    "name": "ipython",
    "version": 3
   },
   "file_extension": ".py",
   "mimetype": "text/x-python",
   "name": "python",
   "nbconvert_exporter": "python",
   "pygments_lexer": "ipython3",
   "version": "3.8.8"
  }
 },
 "nbformat": 4,
 "nbformat_minor": 5
}
