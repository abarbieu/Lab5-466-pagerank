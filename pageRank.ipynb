{
 "cells": [
  {
   "cell_type": "code",
   "execution_count": 1,
   "id": "b61c5d2f-721d-4509-8eeb-1a3c2d1c3ca7",
   "metadata": {},
   "outputs": [],
   "source": [
    "import numpy as np\n",
    "import pandas as pd\n",
    "import sys\n",
    "import re\n",
    "from scipy import sparse\n",
    "from tabulate import tabulate"
   ]
  },
  {
   "cell_type": "markdown",
   "id": "82f3003a-e91a-42f4-a169-64563bd17843",
   "metadata": {},
   "source": [
    "### Read SNAP data into list of lists"
   ]
  },
  {
   "cell_type": "code",
   "execution_count": 2,
   "id": "00292d00-4a0a-48c6-906d-3371cf2210e4",
   "metadata": {},
   "outputs": [],
   "source": [
    "fname = './data/amazon0505.txt'\n",
    "with open(fname, 'r') as f:\n",
    "    lines = [[int(node) for node in re.split('\\t',edge.strip('\\n'))[:2]] for edge in f.readlines() if edge[0][0] != '#']\n",
    "edges = np.array(lines)\n",
    "numItems = len(np.unique(np.array(lines)))"
   ]
  },
  {
   "cell_type": "markdown",
   "id": "06201b00-03e5-4e74-b900-acc073c16082",
   "metadata": {},
   "source": [
    "### Read small datasets into list of lists"
   ]
  },
  {
   "cell_type": "code",
   "execution_count": 3,
   "id": "59c2f88a-d160-495a-a60f-44509be1c434",
   "metadata": {
    "tags": []
   },
   "outputs": [],
   "source": [
    "# # fname = './data/karate.csv'\n",
    "# fname = './data/NCAA_football.csv'\n",
    "# # fname = './data/eg.txt'\n",
    "# df = pd.read_csv(fname, header=None, usecols=[i for i in range(4)])\n",
    "# if type(df[2][0]) == str:\n",
    "#     df[2] = df[2].str.replace('\"', '').str.strip()\n",
    "\n",
    "# names = sorted(np.unique(np.concatenate((df[0].unique(),df[2].unique()))))\n",
    "\n",
    "# a = np.array(df[0].apply(names.index))   \n",
    "# b = np.array(df[2].apply(names.index))\n",
    "# edges = np.array([b,a]).T\n",
    "# numItems = len(names)"
   ]
  },
  {
   "cell_type": "markdown",
   "id": "0bec2477-375f-40d8-859a-de10b2a443e4",
   "metadata": {},
   "source": [
    "### Create adjacency matrix "
   ]
  },
  {
   "cell_type": "code",
   "execution_count": 4,
   "id": "854a5a36-326f-4ffc-8f1f-e5f637c5a6d6",
   "metadata": {},
   "outputs": [],
   "source": [
    "adj = sparse.lil_matrix((numItems, numItems))"
   ]
  },
  {
   "cell_type": "code",
   "execution_count": 5,
   "id": "7ae924ec-fa6a-4fc9-b15d-e6a77088e9d4",
   "metadata": {
    "tags": []
   },
   "outputs": [],
   "source": [
    "adj[edges[:,0], edges[:,1]] = 1"
   ]
  },
  {
   "cell_type": "markdown",
   "id": "454825e9-22ec-4a5c-b902-4e8a4e27d687",
   "metadata": {},
   "source": [
    "### Connect sink nodes to themselves"
   ]
  },
  {
   "cell_type": "code",
   "execution_count": 6,
   "id": "ce72ac01-89c3-4c5b-b70b-56ef7b79686d",
   "metadata": {
    "tags": []
   },
   "outputs": [],
   "source": [
    "degOut = adj.getnnz(axis = 1) # num of non zero values in row\n",
    "\n",
    "adj.setdiag(degOut == 0) # more efficient with lilmatrix\n",
    "adj = adj.tocsr()\n",
    "degOut = adj.getnnz(axis = 1) # num of non zero values in row"
   ]
  },
  {
   "cell_type": "markdown",
   "id": "be7c14b0-3eea-4226-b9ce-f6f614192adf",
   "metadata": {},
   "source": [
    "### Scale matrix by outgoing edges"
   ]
  },
  {
   "cell_type": "code",
   "execution_count": 7,
   "id": "97d2f4d7-f02f-4e67-99f9-c1ff90ef1208",
   "metadata": {},
   "outputs": [],
   "source": [
    "degOutRep = np.repeat(degOut, degOut) # degOut is the same as number of data points in row\n",
    "adj.data = adj.data / degOutRep"
   ]
  },
  {
   "cell_type": "markdown",
   "id": "f9ba365a-b6da-4cc9-8928-3125a790144f",
   "metadata": {},
   "source": [
    "### Iterate pagerank"
   ]
  },
  {
   "cell_type": "code",
   "execution_count": 8,
   "id": "437c25f2-f266-48d9-ab43-bf6980d9ee0d",
   "metadata": {},
   "outputs": [],
   "source": [
    "p = [1/adj.shape[0]] * adj.shape[0] "
   ]
  },
  {
   "cell_type": "code",
   "execution_count": 9,
   "id": "1197d3c8-438e-4b0e-80b9-42645daeacaf",
   "metadata": {},
   "outputs": [],
   "source": [
    "d = 0.9\n",
    "jProb = [(1-d)/len(p)] * len(p)"
   ]
  },
  {
   "cell_type": "code",
   "execution_count": 10,
   "id": "5d84529c-c389-489c-9fdf-7c2461166747",
   "metadata": {
    "tags": []
   },
   "outputs": [],
   "source": [
    "for i in range(30):\n",
    "    p = adj.T*p*d + jProb"
   ]
  },
  {
   "cell_type": "code",
   "execution_count": 11,
   "id": "89819b2c-6a1d-4467-9e74-b67f10351e55",
   "metadata": {},
   "outputs": [
    {
     "name": "stdout",
     "output_type": "stream",
     "text": [
      "1.0000000000000009\n"
     ]
    }
   ],
   "source": [
    "print(sum(p))"
   ]
  },
  {
   "cell_type": "code",
   "execution_count": 12,
   "id": "034e9140-70eb-498f-9967-ac0e77a108f8",
   "metadata": {},
   "outputs": [],
   "source": [
    "# output = []\n",
    "# for i in range(len(p)):\n",
    "#     output.append([names[i],p[i]])\n",
    "# output = pd.DataFrame(output, columns = ['name', 'pageRank'])\n",
    "# output = output.sort_values(by=['pageRank'], ascending=False)\n",
    "# output = output.reset_index().drop(columns=['index'])\n",
    "\n",
    "# print(tabulate(output, headers='keys', tablefmt='psql'))\n",
    "# i=1\n",
    "# for r in output.itertuples():\n",
    "#     print(f\"{i} {r[1]} with pagerank: {r[2]}\")\n",
    "#     i+=1"
   ]
  }
 ],
 "metadata": {
  "kernelspec": {
   "display_name": "Python 3",
   "language": "python",
   "name": "python3"
  },
  "language_info": {
   "codemirror_mode": {
    "name": "ipython",
    "version": 3
   },
   "file_extension": ".py",
   "mimetype": "text/x-python",
   "name": "python",
   "nbconvert_exporter": "python",
   "pygments_lexer": "ipython3",
   "version": "3.8.8"
  }
 },
 "nbformat": 4,
 "nbformat_minor": 5
}
